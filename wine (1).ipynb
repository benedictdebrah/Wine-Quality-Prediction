{
  "cells": [
    {
      "cell_type": "markdown",
      "metadata": {
        "id": "G2hC49cObomQ"
      },
      "source": [
        "<h1>Wine Quality Data Science Project</h1>"
      ]
    },
    {
      "cell_type": "markdown",
      "metadata": {
        "id": "1i22zVfJbomj"
      },
      "source": [
        "<b>Data Analytics</b>"
      ]
    },
    {
      "cell_type": "markdown",
      "metadata": {
        "id": "hHBGzqYnboml"
      },
      "source": [
        "Importing python libraries and modules"
      ]
    },
    {
      "cell_type": "code",
      "execution_count": 1,
      "metadata": {
        "colab": {
          "base_uri": "https://localhost:8080/"
        },
        "id": "qaMmJTRMMoJB",
        "outputId": "504fdbf1-8c9c-431d-8d8b-a9ab1477dd91"
      },
      "outputs": [
        {
          "output_type": "stream",
          "name": "stdout",
          "text": [
            "Looking in indexes: https://pypi.org/simple, https://us-python.pkg.dev/colab-wheels/public/simple/\n",
            "Requirement already satisfied: feature-engine in /usr/local/lib/python3.10/dist-packages (1.6.1)\n",
            "Requirement already satisfied: numpy>=1.18.2 in /usr/local/lib/python3.10/dist-packages (from feature-engine) (1.22.4)\n",
            "Requirement already satisfied: pandas>=1.0.3 in /usr/local/lib/python3.10/dist-packages (from feature-engine) (1.5.3)\n",
            "Requirement already satisfied: scikit-learn>=1.0.0 in /usr/local/lib/python3.10/dist-packages (from feature-engine) (1.2.2)\n",
            "Requirement already satisfied: scipy>=1.4.1 in /usr/local/lib/python3.10/dist-packages (from feature-engine) (1.10.1)\n",
            "Requirement already satisfied: statsmodels>=0.11.1 in /usr/local/lib/python3.10/dist-packages (from feature-engine) (0.13.5)\n",
            "Requirement already satisfied: python-dateutil>=2.8.1 in /usr/local/lib/python3.10/dist-packages (from pandas>=1.0.3->feature-engine) (2.8.2)\n",
            "Requirement already satisfied: pytz>=2020.1 in /usr/local/lib/python3.10/dist-packages (from pandas>=1.0.3->feature-engine) (2022.7.1)\n",
            "Requirement already satisfied: joblib>=1.1.1 in /usr/local/lib/python3.10/dist-packages (from scikit-learn>=1.0.0->feature-engine) (1.2.0)\n",
            "Requirement already satisfied: threadpoolctl>=2.0.0 in /usr/local/lib/python3.10/dist-packages (from scikit-learn>=1.0.0->feature-engine) (3.1.0)\n",
            "Requirement already satisfied: patsy>=0.5.2 in /usr/local/lib/python3.10/dist-packages (from statsmodels>=0.11.1->feature-engine) (0.5.3)\n",
            "Requirement already satisfied: packaging>=21.3 in /usr/local/lib/python3.10/dist-packages (from statsmodels>=0.11.1->feature-engine) (23.1)\n",
            "Requirement already satisfied: six in /usr/local/lib/python3.10/dist-packages (from patsy>=0.5.2->statsmodels>=0.11.1->feature-engine) (1.16.0)\n"
          ]
        }
      ],
      "source": [
        "! pip install feature-engine"
      ]
    },
    {
      "cell_type": "code",
      "execution_count": 2,
      "metadata": {
        "id": "cbLp2DMsbomo"
      },
      "outputs": [],
      "source": [
        "### Notebooks properties for better display\n",
        "\n",
        "#allow multiple outputs from a single code of chunk\n",
        "from IPython.core.interactiveshell import InteractiveShell\n",
        "InteractiveShell.ast_node_interactivity='all'\n",
        "\n",
        "#suppress warnings\n",
        "import warnings\n",
        "warnings.filterwarnings('ignore')\n",
        "\n",
        "### Data analysis\n",
        "import numpy as np\n",
        "import pandas as pd\n",
        "\n",
        "\n",
        "### Data Visualization\n",
        "import seaborn as sns\n",
        "import matplotlib.pyplot as plt\n",
        "plt.style.use('seaborn-v0_8-notebook')\n",
        "\n",
        "#inline plotting\n",
        "%matplotlib inline\n",
        "\n",
        "### Machine Learning\n",
        "\n",
        "## Feature engineering\n",
        "#outliers\n",
        "from feature_engine.outliers import Winsorizer\n",
        "#scaling numeric features\n",
        "from sklearn.preprocessing import MinMaxScaler,StandardScaler\n",
        "#categorical features\n",
        "from feature_engine.encoding import OneHotEncoder\n",
        "#skewness\n",
        "from feature_engine.transformation import YeoJohnsonTransformer\n",
        "#sklearn wrapper\n",
        "from feature_engine.wrappers import SklearnTransformerWrapper\n",
        "#feature selection\n",
        "from feature_engine.selection import DropCorrelatedFeatures,DropDuplicateFeatures\n",
        "\n",
        "##pipeline\n",
        "from sklearn.pipeline import Pipeline\n",
        "from sklearn.compose import ColumnTransformer\n",
        "\n",
        "##Models\n",
        "from sklearn.linear_model import LinearRegression\n",
        "\n",
        "##Cross validation and data resampling\n",
        "from sklearn.model_selection import train_test_split, cross_val_score, GridSearchCV\n",
        "\n",
        "##model evaluation\n",
        "from sklearn.metrics import mean_squared_error,mean_absolute_error\n",
        "from yellowbrick.regressor import PredictionError,ResidualsPlot\n",
        "\n",
        "\n"
      ]
    },
    {
      "cell_type": "code",
      "execution_count": 3,
      "metadata": {
        "colab": {
          "base_uri": "https://localhost:8080/",
          "height": 224
        },
        "id": "Y8sXaT8dbomz",
        "outputId": "d400f2e4-cd46-414b-946f-e1e78a8c2445"
      },
      "outputs": [
        {
          "output_type": "stream",
          "name": "stdout",
          "text": [
            "Data contains 9 columns and 1658 rows\n"
          ]
        },
        {
          "output_type": "execute_result",
          "data": {
            "text/plain": [
              "   quality_score wine_type  alcohol  citric_acid  density    ph  \\\n",
              "0           7.06     white     12.9         0.26  0.99080  3.08   \n",
              "1           4.27     white      9.5         0.09  0.99566  2.93   \n",
              "2           6.35     white      9.6         0.23  0.99450  3.34   \n",
              "3           7.08     white     13.4         0.24  0.98934  3.04   \n",
              "4           5.75     white      9.5         0.24  0.99420  2.99   \n",
              "\n",
              "   residual_sugar  total_sulfur_dioxide  fixed_acidity  \n",
              "0             9.7                 102.0            6.2  \n",
              "1            10.9                 131.0            6.6  \n",
              "2             6.2                 117.0            6.7  \n",
              "3             6.1                  86.0            6.2  \n",
              "4             3.6                  85.0            6.9  "
            ],
            "text/html": [
              "\n",
              "  <div id=\"df-55347636-f138-44a1-bfee-e057040d2a84\">\n",
              "    <div class=\"colab-df-container\">\n",
              "      <div>\n",
              "<style scoped>\n",
              "    .dataframe tbody tr th:only-of-type {\n",
              "        vertical-align: middle;\n",
              "    }\n",
              "\n",
              "    .dataframe tbody tr th {\n",
              "        vertical-align: top;\n",
              "    }\n",
              "\n",
              "    .dataframe thead th {\n",
              "        text-align: right;\n",
              "    }\n",
              "</style>\n",
              "<table border=\"1\" class=\"dataframe\">\n",
              "  <thead>\n",
              "    <tr style=\"text-align: right;\">\n",
              "      <th></th>\n",
              "      <th>quality_score</th>\n",
              "      <th>wine_type</th>\n",
              "      <th>alcohol</th>\n",
              "      <th>citric_acid</th>\n",
              "      <th>density</th>\n",
              "      <th>ph</th>\n",
              "      <th>residual_sugar</th>\n",
              "      <th>total_sulfur_dioxide</th>\n",
              "      <th>fixed_acidity</th>\n",
              "    </tr>\n",
              "  </thead>\n",
              "  <tbody>\n",
              "    <tr>\n",
              "      <th>0</th>\n",
              "      <td>7.06</td>\n",
              "      <td>white</td>\n",
              "      <td>12.9</td>\n",
              "      <td>0.26</td>\n",
              "      <td>0.99080</td>\n",
              "      <td>3.08</td>\n",
              "      <td>9.7</td>\n",
              "      <td>102.0</td>\n",
              "      <td>6.2</td>\n",
              "    </tr>\n",
              "    <tr>\n",
              "      <th>1</th>\n",
              "      <td>4.27</td>\n",
              "      <td>white</td>\n",
              "      <td>9.5</td>\n",
              "      <td>0.09</td>\n",
              "      <td>0.99566</td>\n",
              "      <td>2.93</td>\n",
              "      <td>10.9</td>\n",
              "      <td>131.0</td>\n",
              "      <td>6.6</td>\n",
              "    </tr>\n",
              "    <tr>\n",
              "      <th>2</th>\n",
              "      <td>6.35</td>\n",
              "      <td>white</td>\n",
              "      <td>9.6</td>\n",
              "      <td>0.23</td>\n",
              "      <td>0.99450</td>\n",
              "      <td>3.34</td>\n",
              "      <td>6.2</td>\n",
              "      <td>117.0</td>\n",
              "      <td>6.7</td>\n",
              "    </tr>\n",
              "    <tr>\n",
              "      <th>3</th>\n",
              "      <td>7.08</td>\n",
              "      <td>white</td>\n",
              "      <td>13.4</td>\n",
              "      <td>0.24</td>\n",
              "      <td>0.98934</td>\n",
              "      <td>3.04</td>\n",
              "      <td>6.1</td>\n",
              "      <td>86.0</td>\n",
              "      <td>6.2</td>\n",
              "    </tr>\n",
              "    <tr>\n",
              "      <th>4</th>\n",
              "      <td>5.75</td>\n",
              "      <td>white</td>\n",
              "      <td>9.5</td>\n",
              "      <td>0.24</td>\n",
              "      <td>0.99420</td>\n",
              "      <td>2.99</td>\n",
              "      <td>3.6</td>\n",
              "      <td>85.0</td>\n",
              "      <td>6.9</td>\n",
              "    </tr>\n",
              "  </tbody>\n",
              "</table>\n",
              "</div>\n",
              "      <button class=\"colab-df-convert\" onclick=\"convertToInteractive('df-55347636-f138-44a1-bfee-e057040d2a84')\"\n",
              "              title=\"Convert this dataframe to an interactive table.\"\n",
              "              style=\"display:none;\">\n",
              "        \n",
              "  <svg xmlns=\"http://www.w3.org/2000/svg\" height=\"24px\"viewBox=\"0 0 24 24\"\n",
              "       width=\"24px\">\n",
              "    <path d=\"M0 0h24v24H0V0z\" fill=\"none\"/>\n",
              "    <path d=\"M18.56 5.44l.94 2.06.94-2.06 2.06-.94-2.06-.94-.94-2.06-.94 2.06-2.06.94zm-11 1L8.5 8.5l.94-2.06 2.06-.94-2.06-.94L8.5 2.5l-.94 2.06-2.06.94zm10 10l.94 2.06.94-2.06 2.06-.94-2.06-.94-.94-2.06-.94 2.06-2.06.94z\"/><path d=\"M17.41 7.96l-1.37-1.37c-.4-.4-.92-.59-1.43-.59-.52 0-1.04.2-1.43.59L10.3 9.45l-7.72 7.72c-.78.78-.78 2.05 0 2.83L4 21.41c.39.39.9.59 1.41.59.51 0 1.02-.2 1.41-.59l7.78-7.78 2.81-2.81c.8-.78.8-2.07 0-2.86zM5.41 20L4 18.59l7.72-7.72 1.47 1.35L5.41 20z\"/>\n",
              "  </svg>\n",
              "      </button>\n",
              "      \n",
              "  <style>\n",
              "    .colab-df-container {\n",
              "      display:flex;\n",
              "      flex-wrap:wrap;\n",
              "      gap: 12px;\n",
              "    }\n",
              "\n",
              "    .colab-df-convert {\n",
              "      background-color: #E8F0FE;\n",
              "      border: none;\n",
              "      border-radius: 50%;\n",
              "      cursor: pointer;\n",
              "      display: none;\n",
              "      fill: #1967D2;\n",
              "      height: 32px;\n",
              "      padding: 0 0 0 0;\n",
              "      width: 32px;\n",
              "    }\n",
              "\n",
              "    .colab-df-convert:hover {\n",
              "      background-color: #E2EBFA;\n",
              "      box-shadow: 0px 1px 2px rgba(60, 64, 67, 0.3), 0px 1px 3px 1px rgba(60, 64, 67, 0.15);\n",
              "      fill: #174EA6;\n",
              "    }\n",
              "\n",
              "    [theme=dark] .colab-df-convert {\n",
              "      background-color: #3B4455;\n",
              "      fill: #D2E3FC;\n",
              "    }\n",
              "\n",
              "    [theme=dark] .colab-df-convert:hover {\n",
              "      background-color: #434B5C;\n",
              "      box-shadow: 0px 1px 3px 1px rgba(0, 0, 0, 0.15);\n",
              "      filter: drop-shadow(0px 1px 2px rgba(0, 0, 0, 0.3));\n",
              "      fill: #FFFFFF;\n",
              "    }\n",
              "  </style>\n",
              "\n",
              "      <script>\n",
              "        const buttonEl =\n",
              "          document.querySelector('#df-55347636-f138-44a1-bfee-e057040d2a84 button.colab-df-convert');\n",
              "        buttonEl.style.display =\n",
              "          google.colab.kernel.accessAllowed ? 'block' : 'none';\n",
              "\n",
              "        async function convertToInteractive(key) {\n",
              "          const element = document.querySelector('#df-55347636-f138-44a1-bfee-e057040d2a84');\n",
              "          const dataTable =\n",
              "            await google.colab.kernel.invokeFunction('convertToInteractive',\n",
              "                                                     [key], {});\n",
              "          if (!dataTable) return;\n",
              "\n",
              "          const docLinkHtml = 'Like what you see? Visit the ' +\n",
              "            '<a target=\"_blank\" href=https://colab.research.google.com/notebooks/data_table.ipynb>data table notebook</a>'\n",
              "            + ' to learn more about interactive tables.';\n",
              "          element.innerHTML = '';\n",
              "          dataTable['output_type'] = 'display_data';\n",
              "          await google.colab.output.renderOutput(dataTable, element);\n",
              "          const docLink = document.createElement('div');\n",
              "          docLink.innerHTML = docLinkHtml;\n",
              "          element.appendChild(docLink);\n",
              "        }\n",
              "      </script>\n",
              "    </div>\n",
              "  </div>\n",
              "  "
            ]
          },
          "metadata": {},
          "execution_count": 3
        }
      ],
      "source": [
        "#Viewing dataset\n",
        "df = pd.read_csv('/content/wine_quality.csv')\n",
        "print('Data contains {} columns and {} rows'.format(df.shape[1], df.shape[0]))\n",
        "df.head()"
      ]
    },
    {
      "cell_type": "code",
      "execution_count": 4,
      "metadata": {
        "colab": {
          "base_uri": "https://localhost:8080/"
        },
        "id": "K1L96F-_bom3",
        "outputId": "016f755a-d510-425c-aaa4-7af11686eae8"
      },
      "outputs": [
        {
          "output_type": "stream",
          "name": "stdout",
          "text": [
            "<class 'pandas.core.frame.DataFrame'>\n",
            "RangeIndex: 1658 entries, 0 to 1657\n",
            "Data columns (total 9 columns):\n",
            " #   Column                Non-Null Count  Dtype  \n",
            "---  ------                --------------  -----  \n",
            " 0   quality_score         1658 non-null   float64\n",
            " 1   wine_type             1658 non-null   object \n",
            " 2   alcohol               1658 non-null   float64\n",
            " 3   citric_acid           1658 non-null   float64\n",
            " 4   density               1658 non-null   float64\n",
            " 5   ph                    1658 non-null   float64\n",
            " 6   residual_sugar        1658 non-null   float64\n",
            " 7   total_sulfur_dioxide  1658 non-null   float64\n",
            " 8   fixed_acidity         1658 non-null   float64\n",
            "dtypes: float64(8), object(1)\n",
            "memory usage: 116.7+ KB\n"
          ]
        }
      ],
      "source": [
        "df.info()"
      ]
    },
    {
      "cell_type": "code",
      "execution_count": 5,
      "metadata": {
        "colab": {
          "base_uri": "https://localhost:8080/"
        },
        "id": "XZSYW4LmcdOo",
        "outputId": "a0976910-7d47-43d3-fd68-44c3915c56ff"
      },
      "outputs": [
        {
          "output_type": "execute_result",
          "data": {
            "text/plain": [
              "quality_score           0\n",
              "wine_type               0\n",
              "alcohol                 0\n",
              "citric_acid             0\n",
              "density                 0\n",
              "ph                      0\n",
              "residual_sugar          0\n",
              "total_sulfur_dioxide    0\n",
              "fixed_acidity           0\n",
              "dtype: int64"
            ]
          },
          "metadata": {},
          "execution_count": 5
        }
      ],
      "source": [
        "df.isnull().sum()"
      ]
    },
    {
      "cell_type": "code",
      "execution_count": 6,
      "metadata": {
        "colab": {
          "base_uri": "https://localhost:8080/",
          "height": 466
        },
        "id": "PHAdSB63bom5",
        "outputId": "0f0701bd-0874-4596-bbfa-0e01515b9682"
      },
      "outputs": [
        {
          "output_type": "display_data",
          "data": {
            "text/plain": [
              "<Figure size 700x500 with 9 Axes>"
            ],
            "image/png": "[encoded data removed]"
          },
          "metadata": {}
        }
      ],
      "source": [
        "#checking how the numeric features are distributed in the dataset\n",
        "df.hist(figsize=(7,5),bins=50,edgecolor='black')\n",
        "plt.subplots_adjust(hspace=0.7,wspace=0.4);"
      ]
    },
    {
      "cell_type": "markdown",
      "metadata": {
        "id": "AvWt_Hd2bom8"
      },
      "source": [
        "From the above diagrams :\n",
        "\n",
        "\n",
        "It can be seen that most of the data is skewed and not normally distributted\n",
        "\n",
        "\n",
        "with such data fed into the model it will affect model performance and prediction.\n",
        "\n",
        "Changes need to be made on this dataset to make it perfect for the model to understand  the features and how it affects the wine quality\n"
      ]
    },
    {
      "cell_type": "code",
      "execution_count": 7,
      "metadata": {
        "colab": {
          "base_uri": "https://localhost:8080/",
          "height": 300
        },
        "id": "I4nE5UZsbom_",
        "outputId": "d726f553-dba4-4976-800d-c42f4e2cc32b"
      },
      "outputs": [
        {
          "output_type": "execute_result",
          "data": {
            "text/plain": [
              "       quality_score  alcohol  citric_acid  density       ph  residual_sugar  \\\n",
              "count        1658.00  1658.00      1658.00  1658.00  1658.00         1658.00   \n",
              "mean            7.16    10.47         0.31     1.00     3.23            4.96   \n",
              "std             1.12     1.17         0.15     0.00     0.17            4.52   \n",
              "min             4.00     8.40         0.00     0.99     2.80            0.70   \n",
              "25%             6.41     9.50         0.23     0.99     3.12            1.80   \n",
              "50%             7.13    10.30         0.31     1.00     3.23            2.60   \n",
              "75%             7.92    11.30         0.40     1.00     3.34            7.20   \n",
              "max            10.00    14.90         0.81     1.00     4.01           26.05   \n",
              "\n",
              "       total_sulfur_dioxide  fixed_acidity  \n",
              "count               1658.00        1658.00  \n",
              "mean                 102.12           7.41  \n",
              "std                   58.58           1.46  \n",
              "min                    6.00           3.80  \n",
              "25%                   50.00           6.50  \n",
              "50%                  103.00           7.10  \n",
              "75%                  144.00           8.00  \n",
              "max                  440.00          15.90  "
            ],
            "text/html": [
              "\n",
              "  <div id=\"df-c659a49e-1624-4cde-ac9c-cb3864395b40\">\n",
              "    <div class=\"colab-df-container\">\n",
              "      <div>\n",
              "<style scoped>\n",
              "    .dataframe tbody tr th:only-of-type {\n",
              "        vertical-align: middle;\n",
              "    }\n",
              "\n",
              "    .dataframe tbody tr th {\n",
              "        vertical-align: top;\n",
              "    }\n",
              "\n",
              "    .dataframe thead th {\n",
              "        text-align: right;\n",
              "    }\n",
              "</style>\n",
              "<table border=\"1\" class=\"dataframe\">\n",
              "  <thead>\n",
              "    <tr style=\"text-align: right;\">\n",
              "      <th></th>\n",
              "      <th>quality_score</th>\n",
              "      <th>alcohol</th>\n",
              "      <th>citric_acid</th>\n",
              "      <th>density</th>\n",
              "      <th>ph</th>\n",
              "      <th>residual_sugar</th>\n",
              "      <th>total_sulfur_dioxide</th>\n",
              "      <th>fixed_acidity</th>\n",
              "    </tr>\n",
              "  </thead>\n",
              "  <tbody>\n",
              "    <tr>\n",
              "      <th>count</th>\n",
              "      <td>1658.00</td>\n",
              "      <td>1658.00</td>\n",
              "      <td>1658.00</td>\n",
              "      <td>1658.00</td>\n",
              "      <td>1658.00</td>\n",
              "      <td>1658.00</td>\n",
              "      <td>1658.00</td>\n",
              "      <td>1658.00</td>\n",
              "    </tr>\n",
              "    <tr>\n",
              "      <th>mean</th>\n",
              "      <td>7.16</td>\n",
              "      <td>10.47</td>\n",
              "      <td>0.31</td>\n",
              "      <td>1.00</td>\n",
              "      <td>3.23</td>\n",
              "      <td>4.96</td>\n",
              "      <td>102.12</td>\n",
              "      <td>7.41</td>\n",
              "    </tr>\n",
              "    <tr>\n",
              "      <th>std</th>\n",
              "      <td>1.12</td>\n",
              "      <td>1.17</td>\n",
              "      <td>0.15</td>\n",
              "      <td>0.00</td>\n",
              "      <td>0.17</td>\n",
              "      <td>4.52</td>\n",
              "      <td>58.58</td>\n",
              "      <td>1.46</td>\n",
              "    </tr>\n",
              "    <tr>\n",
              "      <th>min</th>\n",
              "      <td>4.00</td>\n",
              "      <td>8.40</td>\n",
              "      <td>0.00</td>\n",
              "      <td>0.99</td>\n",
              "      <td>2.80</td>\n",
              "      <td>0.70</td>\n",
              "      <td>6.00</td>\n",
              "      <td>3.80</td>\n",
              "    </tr>\n",
              "    <tr>\n",
              "      <th>25%</th>\n",
              "      <td>6.41</td>\n",
              "      <td>9.50</td>\n",
              "      <td>0.23</td>\n",
              "      <td>0.99</td>\n",
              "      <td>3.12</td>\n",
              "      <td>1.80</td>\n",
              "      <td>50.00</td>\n",
              "      <td>6.50</td>\n",
              "    </tr>\n",
              "    <tr>\n",
              "      <th>50%</th>\n",
              "      <td>7.13</td>\n",
              "      <td>10.30</td>\n",
              "      <td>0.31</td>\n",
              "      <td>1.00</td>\n",
              "      <td>3.23</td>\n",
              "      <td>2.60</td>\n",
              "      <td>103.00</td>\n",
              "      <td>7.10</td>\n",
              "    </tr>\n",
              "    <tr>\n",
              "      <th>75%</th>\n",
              "      <td>7.92</td>\n",
              "      <td>11.30</td>\n",
              "      <td>0.40</td>\n",
              "      <td>1.00</td>\n",
              "      <td>3.34</td>\n",
              "      <td>7.20</td>\n",
              "      <td>144.00</td>\n",
              "      <td>8.00</td>\n",
              "    </tr>\n",
              "    <tr>\n",
              "      <th>max</th>\n",
              "      <td>10.00</td>\n",
              "      <td>14.90</td>\n",
              "      <td>0.81</td>\n",
              "      <td>1.00</td>\n",
              "      <td>4.01</td>\n",
              "      <td>26.05</td>\n",
              "      <td>440.00</td>\n",
              "      <td>15.90</td>\n",
              "    </tr>\n",
              "  </tbody>\n",
              "</table>\n",
              "</div>\n",
              "      <button class=\"colab-df-convert\" onclick=\"convertToInteractive('df-c659a49e-1624-4cde-ac9c-cb3864395b40')\"\n",
              "              title=\"Convert this dataframe to an interactive table.\"\n",
              "              style=\"display:none;\">\n",
              "        \n",
              "  <svg xmlns=\"http://www.w3.org/2000/svg\" height=\"24px\"viewBox=\"0 0 24 24\"\n",
              "       width=\"24px\">\n",
              "    <path d=\"M0 0h24v24H0V0z\" fill=\"none\"/>\n",
              "    <path d=\"M18.56 5.44l.94 2.06.94-2.06 2.06-.94-2.06-.94-.94-2.06-.94 2.06-2.06.94zm-11 1L8.5 8.5l.94-2.06 2.06-.94-2.06-.94L8.5 2.5l-.94 2.06-2.06.94zm10 10l.94 2.06.94-2.06 2.06-.94-2.06-.94-.94-2.06-.94 2.06-2.06.94z\"/><path d=\"M17.41 7.96l-1.37-1.37c-.4-.4-.92-.59-1.43-.59-.52 0-1.04.2-1.43.59L10.3 9.45l-7.72 7.72c-.78.78-.78 2.05 0 2.83L4 21.41c.39.39.9.59 1.41.59.51 0 1.02-.2 1.41-.59l7.78-7.78 2.81-2.81c.8-.78.8-2.07 0-2.86zM5.41 20L4 18.59l7.72-7.72 1.47 1.35L5.41 20z\"/>\n",
              "  </svg>\n",
              "      </button>\n",
              "      \n",
              "  <style>\n",
              "    .colab-df-container {\n",
              "      display:flex;\n",
              "      flex-wrap:wrap;\n",
              "      gap: 12px;\n",
              "    }\n",
              "\n",
              "    .colab-df-convert {\n",
              "      background-color: #E8F0FE;\n",
              "      border: none;\n",
              "      border-radius: 50%;\n",
              "      cursor: pointer;\n",
              "      display: none;\n",
              "      fill: #1967D2;\n",
              "      height: 32px;\n",
              "      padding: 0 0 0 0;\n",
              "      width: 32px;\n",
              "    }\n",
              "\n",
              "    .colab-df-convert:hover {\n",
              "      background-color: #E2EBFA;\n",
              "      box-shadow: 0px 1px 2px rgba(60, 64, 67, 0.3), 0px 1px 3px 1px rgba(60, 64, 67, 0.15);\n",
              "      fill: #174EA6;\n",
              "    }\n",
              "\n",
              "    [theme=dark] .colab-df-convert {\n",
              "      background-color: #3B4455;\n",
              "      fill: #D2E3FC;\n",
              "    }\n",
              "\n",
              "    [theme=dark] .colab-df-convert:hover {\n",
              "      background-color: #434B5C;\n",
              "      box-shadow: 0px 1px 3px 1px rgba(0, 0, 0, 0.15);\n",
              "      filter: drop-shadow(0px 1px 2px rgba(0, 0, 0, 0.3));\n",
              "      fill: #FFFFFF;\n",
              "    }\n",
              "  </style>\n",
              "\n",
              "      <script>\n",
              "        const buttonEl =\n",
              "          document.querySelector('#df-c659a49e-1624-4cde-ac9c-cb3864395b40 button.colab-df-convert');\n",
              "        buttonEl.style.display =\n",
              "          google.colab.kernel.accessAllowed ? 'block' : 'none';\n",
              "\n",
              "        async function convertToInteractive(key) {\n",
              "          const element = document.querySelector('#df-c659a49e-1624-4cde-ac9c-cb3864395b40');\n",
              "          const dataTable =\n",
              "            await google.colab.kernel.invokeFunction('convertToInteractive',\n",
              "                                                     [key], {});\n",
              "          if (!dataTable) return;\n",
              "\n",
              "          const docLinkHtml = 'Like what you see? Visit the ' +\n",
              "            '<a target=\"_blank\" href=https://colab.research.google.com/notebooks/data_table.ipynb>data table notebook</a>'\n",
              "            + ' to learn more about interactive tables.';\n",
              "          element.innerHTML = '';\n",
              "          dataTable['output_type'] = 'display_data';\n",
              "          await google.colab.output.renderOutput(dataTable, element);\n",
              "          const docLink = document.createElement('div');\n",
              "          docLink.innerHTML = docLinkHtml;\n",
              "          element.appendChild(docLink);\n",
              "        }\n",
              "      </script>\n",
              "    </div>\n",
              "  </div>\n",
              "  "
            ]
          },
          "metadata": {},
          "execution_count": 7
        }
      ],
      "source": [
        "#exploring the data\n",
        "df.describe().round(2)"
      ]
    },
    {
      "cell_type": "markdown",
      "metadata": {
        "id": "P-8kES7bbonC"
      },
      "source": [
        "From the above table features like ['total_sulfur_dioxide','density'] clearly shows some skewness and outliers in the data"
      ]
    },
    {
      "cell_type": "code",
      "execution_count": 8,
      "metadata": {
        "colab": {
          "base_uri": "https://localhost:8080/",
          "height": 308
        },
        "id": "s1JJelZ1bonE",
        "outputId": "3c683ebb-c60e-4c8f-f0ad-4a3249e3774f"
      },
      "outputs": [
        {
          "output_type": "execute_result",
          "data": {
            "text/plain": [
              "<Figure size 500x300 with 0 Axes>"
            ]
          },
          "metadata": {},
          "execution_count": 8
        },
        {
          "output_type": "display_data",
          "data": {
            "text/plain": [
              "<Figure size 500x300 with 1 Axes>"
            ],
            "image/png": "[encoded data removed]"
          },
          "metadata": {}
        }
      ],
      "source": [
        "plt.figure(figsize=(5,3))\n",
        "ax = sns.boxplot(df['total_sulfur_dioxide'])"
      ]
    },
    {
      "cell_type": "markdown",
      "metadata": {
        "id": "0g2Dd0TAbonG"
      },
      "source": [
        "Assumptions concerning some outliers in total_sulfur_dioxide column  confirmed.\n",
        "\n",
        "There might be other columns with same and similar problem .\n",
        "\n",
        "Feature engineering need to be performed to make changes to the data because the model i will be using considers outliers as threat to model performance\n",
        "\n",
        "And outliers can make the regression lines less accurate in predicting other data.\n",
        "\n"
      ]
    },
    {
      "cell_type": "markdown",
      "metadata": {
        "id": "j47Ri7KxbonH"
      },
      "source": [
        "<h2>Feature Engineering</h3>"
      ]
    },
    {
      "cell_type": "markdown",
      "metadata": {
        "id": "rQbAOq4ybonI"
      },
      "source": [
        "### Data Resampling\n",
        "\n",
        "During the data processing step, we must always split our original data into training and test sets **before** feature engineering.\n",
        "\n",
        "This guards against [data leakage](https://en.wikipedia.org/wiki/Leakage_(machine_learning)), where information in the training data leaks into the test data via transformations (such as scaling numeric variables - more on this below)\n"
      ]
    },
    {
      "cell_type": "code",
      "execution_count": 9,
      "metadata": {
        "id": "WVZrw6rJbonI"
      },
      "outputs": [],
      "source": [
        "#splitting of datasets to train and test\n",
        "X_train, X_test, y_train, y_test = train_test_split(\n",
        "    df.drop(columns=['quality_score']),  #drop the quality score column\n",
        "    df['quality_score'],\n",
        "    train_size=0.8,\n",
        "    random_state=42,\n",
        ")"
      ]
    },
    {
      "cell_type": "code",
      "execution_count": 10,
      "metadata": {
        "colab": {
          "base_uri": "https://localhost:8080/",
          "height": 206
        },
        "id": "6L70HrvlbonJ",
        "outputId": "e47b96ae-67c3-4db1-c88c-4d7e216ab6f0"
      },
      "outputs": [
        {
          "output_type": "execute_result",
          "data": {
            "text/plain": [
              "     wine_type  alcohol  citric_acid  density    ph  residual_sugar  \\\n",
              "1468       red     10.2         0.08  0.99484  3.50             1.9   \n",
              "741      white     12.2         0.22  0.99076  2.97             4.5   \n",
              "585      white      9.8         0.31  0.99420  3.41             5.2   \n",
              "1305     white      9.7         0.24  0.99560  3.21             6.0   \n",
              "306      white      9.7         0.69  0.99310  3.06             1.3   \n",
              "\n",
              "      total_sulfur_dioxide  fixed_acidity  \n",
              "1468                  31.0            5.4  \n",
              "741                   73.0            7.2  \n",
              "585                  120.0            6.8  \n",
              "1305                  77.0            7.1  \n",
              "306                  171.0            6.8  "
            ],
            "text/html": [
              "\n",
              "  <div id=\"df-e7d0651a-67c8-4cb0-ad99-9c04dbf59147\">\n",
              "    <div class=\"colab-df-container\">\n",
              "      <div>\n",
              "<style scoped>\n",
              "    .dataframe tbody tr th:only-of-type {\n",
              "        vertical-align: middle;\n",
              "    }\n",
              "\n",
              "    .dataframe tbody tr th {\n",
              "        vertical-align: top;\n",
              "    }\n",
              "\n",
              "    .dataframe thead th {\n",
              "        text-align: right;\n",
              "    }\n",
              "</style>\n",
              "<table border=\"1\" class=\"dataframe\">\n",
              "  <thead>\n",
              "    <tr style=\"text-align: right;\">\n",
              "      <th></th>\n",
              "      <th>wine_type</th>\n",
              "      <th>alcohol</th>\n",
              "      <th>citric_acid</th>\n",
              "      <th>density</th>\n",
              "      <th>ph</th>\n",
              "      <th>residual_sugar</th>\n",
              "      <th>total_sulfur_dioxide</th>\n",
              "      <th>fixed_acidity</th>\n",
              "    </tr>\n",
              "  </thead>\n",
              "  <tbody>\n",
              "    <tr>\n",
              "      <th>1468</th>\n",
              "      <td>red</td>\n",
              "      <td>10.2</td>\n",
              "      <td>0.08</td>\n",
              "      <td>0.99484</td>\n",
              "      <td>3.50</td>\n",
              "      <td>1.9</td>\n",
              "      <td>31.0</td>\n",
              "      <td>5.4</td>\n",
              "    </tr>\n",
              "    <tr>\n",
              "      <th>741</th>\n",
              "      <td>white</td>\n",
              "      <td>12.2</td>\n",
              "      <td>0.22</td>\n",
              "      <td>0.99076</td>\n",
              "      <td>2.97</td>\n",
              "      <td>4.5</td>\n",
              "      <td>73.0</td>\n",
              "      <td>7.2</td>\n",
              "    </tr>\n",
              "    <tr>\n",
              "      <th>585</th>\n",
              "      <td>white</td>\n",
              "      <td>9.8</td>\n",
              "      <td>0.31</td>\n",
              "      <td>0.99420</td>\n",
              "      <td>3.41</td>\n",
              "      <td>5.2</td>\n",
              "      <td>120.0</td>\n",
              "      <td>6.8</td>\n",
              "    </tr>\n",
              "    <tr>\n",
              "      <th>1305</th>\n",
              "      <td>white</td>\n",
              "      <td>9.7</td>\n",
              "      <td>0.24</td>\n",
              "      <td>0.99560</td>\n",
              "      <td>3.21</td>\n",
              "      <td>6.0</td>\n",
              "      <td>77.0</td>\n",
              "      <td>7.1</td>\n",
              "    </tr>\n",
              "    <tr>\n",
              "      <th>306</th>\n",
              "      <td>white</td>\n",
              "      <td>9.7</td>\n",
              "      <td>0.69</td>\n",
              "      <td>0.99310</td>\n",
              "      <td>3.06</td>\n",
              "      <td>1.3</td>\n",
              "      <td>171.0</td>\n",
              "      <td>6.8</td>\n",
              "    </tr>\n",
              "  </tbody>\n",
              "</table>\n",
              "</div>\n",
              "      <button class=\"colab-df-convert\" onclick=\"convertToInteractive('df-e7d0651a-67c8-4cb0-ad99-9c04dbf59147')\"\n",
              "              title=\"Convert this dataframe to an interactive table.\"\n",
              "              style=\"display:none;\">\n",
              "        \n",
              "  <svg xmlns=\"http://www.w3.org/2000/svg\" height=\"24px\"viewBox=\"0 0 24 24\"\n",
              "       width=\"24px\">\n",
              "    <path d=\"M0 0h24v24H0V0z\" fill=\"none\"/>\n",
              "    <path d=\"M18.56 5.44l.94 2.06.94-2.06 2.06-.94-2.06-.94-.94-2.06-.94 2.06-2.06.94zm-11 1L8.5 8.5l.94-2.06 2.06-.94-2.06-.94L8.5 2.5l-.94 2.06-2.06.94zm10 10l.94 2.06.94-2.06 2.06-.94-2.06-.94-.94-2.06-.94 2.06-2.06.94z\"/><path d=\"M17.41 7.96l-1.37-1.37c-.4-.4-.92-.59-1.43-.59-.52 0-1.04.2-1.43.59L10.3 9.45l-7.72 7.72c-.78.78-.78 2.05 0 2.83L4 21.41c.39.39.9.59 1.41.59.51 0 1.02-.2 1.41-.59l7.78-7.78 2.81-2.81c.8-.78.8-2.07 0-2.86zM5.41 20L4 18.59l7.72-7.72 1.47 1.35L5.41 20z\"/>\n",
              "  </svg>\n",
              "      </button>\n",
              "      \n",
              "  <style>\n",
              "    .colab-df-container {\n",
              "      display:flex;\n",
              "      flex-wrap:wrap;\n",
              "      gap: 12px;\n",
              "    }\n",
              "\n",
              "    .colab-df-convert {\n",
              "      background-color: #E8F0FE;\n",
              "      border: none;\n",
              "      border-radius: 50%;\n",
              "      cursor: pointer;\n",
              "      display: none;\n",
              "      fill: #1967D2;\n",
              "      height: 32px;\n",
              "      padding: 0 0 0 0;\n",
              "      width: 32px;\n",
              "    }\n",
              "\n",
              "    .colab-df-convert:hover {\n",
              "      background-color: #E2EBFA;\n",
              "      box-shadow: 0px 1px 2px rgba(60, 64, 67, 0.3), 0px 1px 3px 1px rgba(60, 64, 67, 0.15);\n",
              "      fill: #174EA6;\n",
              "    }\n",
              "\n",
              "    [theme=dark] .colab-df-convert {\n",
              "      background-color: #3B4455;\n",
              "      fill: #D2E3FC;\n",
              "    }\n",
              "\n",
              "    [theme=dark] .colab-df-convert:hover {\n",
              "      background-color: #434B5C;\n",
              "      box-shadow: 0px 1px 3px 1px rgba(0, 0, 0, 0.15);\n",
              "      filter: drop-shadow(0px 1px 2px rgba(0, 0, 0, 0.3));\n",
              "      fill: #FFFFFF;\n",
              "    }\n",
              "  </style>\n",
              "\n",
              "      <script>\n",
              "        const buttonEl =\n",
              "          document.querySelector('#df-e7d0651a-67c8-4cb0-ad99-9c04dbf59147 button.colab-df-convert');\n",
              "        buttonEl.style.display =\n",
              "          google.colab.kernel.accessAllowed ? 'block' : 'none';\n",
              "\n",
              "        async function convertToInteractive(key) {\n",
              "          const element = document.querySelector('#df-e7d0651a-67c8-4cb0-ad99-9c04dbf59147');\n",
              "          const dataTable =\n",
              "            await google.colab.kernel.invokeFunction('convertToInteractive',\n",
              "                                                     [key], {});\n",
              "          if (!dataTable) return;\n",
              "\n",
              "          const docLinkHtml = 'Like what you see? Visit the ' +\n",
              "            '<a target=\"_blank\" href=https://colab.research.google.com/notebooks/data_table.ipynb>data table notebook</a>'\n",
              "            + ' to learn more about interactive tables.';\n",
              "          element.innerHTML = '';\n",
              "          dataTable['output_type'] = 'display_data';\n",
              "          await google.colab.output.renderOutput(dataTable, element);\n",
              "          const docLink = document.createElement('div');\n",
              "          docLink.innerHTML = docLinkHtml;\n",
              "          element.appendChild(docLink);\n",
              "        }\n",
              "      </script>\n",
              "    </div>\n",
              "  </div>\n",
              "  "
            ]
          },
          "metadata": {},
          "execution_count": 10
        }
      ],
      "source": [
        "X_train.head()\n"
      ]
    },
    {
      "cell_type": "markdown",
      "metadata": {
        "id": "cgpAY7rCbonL"
      },
      "source": [
        " I will be creating a list containing numeric features and categorical features.\n",
        "\n",
        " This will allow feature engineering process to be done accordingly"
      ]
    },
    {
      "cell_type": "code",
      "execution_count": 11,
      "metadata": {
        "id": "0ZN3-xJ3bonL"
      },
      "outputs": [],
      "source": [
        "#creating list for numeric features\n",
        "numeric_features = (\n",
        "    X_train\n",
        "    .select_dtypes('number')\n",
        "    .columns\n",
        "    .to_list()\n",
        "\n",
        ")\n",
        "\n",
        "#list for categorical features\n",
        "categorical_features =(\n",
        "    X_train\n",
        "    .select_dtypes('object')\n",
        "    .columns\n",
        "    .to_list()\n",
        ")\n"
      ]
    },
    {
      "cell_type": "code",
      "execution_count": 12,
      "metadata": {
        "colab": {
          "base_uri": "https://localhost:8080/"
        },
        "id": "svPLl8IkbonN",
        "outputId": "7231f800-cc4b-4055-a521-759a30118af4"
      },
      "outputs": [
        {
          "output_type": "stream",
          "name": "stdout",
          "text": [
            "Categorical features:   ['wine_type']\n",
            "Numeric features:       ['alcohol', 'citric_acid', 'density', 'ph', 'residual_sugar', 'total_sulfur_dioxide', 'fixed_acidity']\n"
          ]
        }
      ],
      "source": [
        "# Display our outputs\n",
        "print('Categorical features:  ', categorical_features)\n",
        "print('Numeric features:      ', numeric_features)"
      ]
    },
    {
      "cell_type": "markdown",
      "metadata": {
        "id": "EL4pXKbebonP"
      },
      "source": [
        "### Feature egineering pipelines for our data"
      ]
    },
    {
      "cell_type": "markdown",
      "metadata": {
        "id": "V8c-e3zRbonQ"
      },
      "source": [
        "Building a pipeline that processes our numeric features in the wine data with the following steps:\n",
        "\n",
        "- Remove skewness with Yeo-Johnson\n",
        "- Standardize the data\n",
        "- Cap outliers with the IQR method\n",
        "- Remove correlated features\n",
        "\n"
      ]
    },
    {
      "cell_type": "code",
      "execution_count": 13,
      "metadata": {
        "colab": {
          "base_uri": "https://localhost:8080/",
          "height": 497
        },
        "id": "_tkQ-AN5bonQ",
        "outputId": "bbb8c8a4-41ee-4552-ada0-c8f7bcf105c9"
      },
      "outputs": [
        {
          "output_type": "execute_result",
          "data": {
            "text/plain": [
              "<Figure size 600x400 with 0 Axes>"
            ]
          },
          "metadata": {},
          "execution_count": 13
        },
        {
          "output_type": "display_data",
          "data": {
            "text/plain": [
              "<Figure size 600x400 with 2 Axes>"
            ],
            "image/png": "[encoded data removed]"
          },
          "metadata": {}
        }
      ],
      "source": [
        "#Checking if there is multicollinearity among the features\n",
        "plt.figure(figsize=(6,4))\n",
        "ax = sns.heatmap(X_train[numeric_features].corr(),annot=True)"
      ]
    },
    {
      "cell_type": "code",
      "execution_count": 14,
      "metadata": {
        "id": "ksrYbzJTbonR"
      },
      "outputs": [],
      "source": [
        "#numeric pipeline\n",
        "numeric_pipeline = Pipeline(\n",
        "    [\n",
        "        ('skewness',YeoJohnsonTransformer()),\n",
        "        ('remove_outliers', Winsorizer(capping_method='iqr',tail='both', fold=1.5)),\n",
        "        ('scaling',StandardScaler()),\n",
        "        ('remove_corr', DropCorrelatedFeatures(threshold=0.6)),\n",
        "\n",
        "\n",
        "    ]\n",
        ")\n",
        "\n",
        "#categorical pipeline\n",
        "categorical_pipeline = Pipeline(\n",
        "    [\n",
        "    ('dummy encoding',OneHotEncoder(drop_last=True))\n",
        "    ]\n",
        ")\n"
      ]
    },
    {
      "cell_type": "code",
      "execution_count": 15,
      "metadata": {
        "colab": {
          "base_uri": "https://localhost:8080/",
          "height": 196
        },
        "id": "sv7xgB7lbonS",
        "outputId": "58b8e4b0-7d6d-4488-eaa8-59e4e8afb8c2"
      },
      "outputs": [
        {
          "output_type": "execute_result",
          "data": {
            "text/plain": [
              "Pipeline(steps=[('skewness', YeoJohnsonTransformer()),\n",
              "                ('remove_outliers',\n",
              "                 Winsorizer(capping_method='iqr', fold=1.5, tail='both')),\n",
              "                ('scaling', StandardScaler()),\n",
              "                ('remove_corr', DropCorrelatedFeatures(threshold=0.6))])"
            ],
            "text/html": [
              "<style>#sk-container-id-1 {color: black;background-color: white;}#sk-container-id-1 pre{padding: 0;}#sk-container-id-1 div.sk-toggleable {background-color: white;}#sk-container-id-1 label.sk-toggleable__label {cursor: pointer;display: block;width: 100%;margin-bottom: 0;padding: 0.3em;box-sizing: border-box;text-align: center;}#sk-container-id-1 label.sk-toggleable__label-arrow:before {content: \"▸\";float: left;margin-right: 0.25em;color: #696969;}#sk-container-id-1 label.sk-toggleable__label-arrow:hover:before {color: black;}#sk-container-id-1 div.sk-estimator:hover label.sk-toggleable__label-arrow:before {color: black;}#sk-container-id-1 div.sk-toggleable__content {max-height: 0;max-width: 0;overflow: hidden;text-align: left;background-color: #f0f8ff;}#sk-container-id-1 div.sk-toggleable__content pre {margin: 0.2em;color: black;border-radius: 0.25em;background-color: #f0f8ff;}#sk-container-id-1 input.sk-toggleable__control:checked~div.sk-toggleable__content {max-height: 200px;max-width: 100%;overflow: auto;}#sk-container-id-1 input.sk-toggleable__control:checked~label.sk-toggleable__label-arrow:before {content: \"▾\";}#sk-container-id-1 div.sk-estimator input.sk-toggleable__control:checked~label.sk-toggleable__label {background-color: #d4ebff;}#sk-container-id-1 div.sk-label input.sk-toggleable__control:checked~label.sk-toggleable__label {background-color: #d4ebff;}#sk-container-id-1 input.sk-hidden--visually {border: 0;clip: rect(1px 1px 1px 1px);clip: rect(1px, 1px, 1px, 1px);height: 1px;margin: -1px;overflow: hidden;padding: 0;position: absolute;width: 1px;}#sk-container-id-1 div.sk-estimator {font-family: monospace;background-color: #f0f8ff;border: 1px dotted black;border-radius: 0.25em;box-sizing: border-box;margin-bottom: 0.5em;}#sk-container-id-1 div.sk-estimator:hover {background-color: #d4ebff;}#sk-container-id-1 div.sk-parallel-item::after {content: \"\";width: 100%;border-bottom: 1px solid gray;flex-grow: 1;}#sk-container-id-1 div.sk-label:hover label.sk-toggleable__label {background-color: #d4ebff;}#sk-container-id-1 div.sk-serial::before {content: \"\";position: absolute;border-left: 1px solid gray;box-sizing: border-box;top: 0;bottom: 0;left: 50%;z-index: 0;}#sk-container-id-1 div.sk-serial {display: flex;flex-direction: column;align-items: center;background-color: white;padding-right: 0.2em;padding-left: 0.2em;position: relative;}#sk-container-id-1 div.sk-item {position: relative;z-index: 1;}#sk-container-id-1 div.sk-parallel {display: flex;align-items: stretch;justify-content: center;background-color: white;position: relative;}#sk-container-id-1 div.sk-item::before, #sk-container-id-1 div.sk-parallel-item::before {content: \"\";position: absolute;border-left: 1px solid gray;box-sizing: border-box;top: 0;bottom: 0;left: 50%;z-index: -1;}#sk-container-id-1 div.sk-parallel-item {display: flex;flex-direction: column;z-index: 1;position: relative;background-color: white;}#sk-container-id-1 div.sk-parallel-item:first-child::after {align-self: flex-end;width: 50%;}#sk-container-id-1 div.sk-parallel-item:last-child::after {align-self: flex-start;width: 50%;}#sk-container-id-1 div.sk-parallel-item:only-child::after {width: 0;}#sk-container-id-1 div.sk-dashed-wrapped {border: 1px dashed gray;margin: 0 0.4em 0.5em 0.4em;box-sizing: border-box;padding-bottom: 0.4em;background-color: white;}#sk-container-id-1 div.sk-label label {font-family: monospace;font-weight: bold;display: inline-block;line-height: 1.2em;}#sk-container-id-1 div.sk-label-container {text-align: center;}#sk-container-id-1 div.sk-container {/* jupyter's `normalize.less` sets `[hidden] { display: none; }` but bootstrap.min.css set `[hidden] { display: none !important; }` so we also need the `!important` here to be able to override the default hidden behavior on the sphinx rendered scikit-learn.org. See: https://github.com/scikit-learn/scikit-learn/issues/21755 */display: inline-block !important;position: relative;}#sk-container-id-1 div.sk-text-repr-fallback {display: none;}</style><div id=\"sk-container-id-1\" class=\"sk-top-container\"><div class=\"sk-text-repr-fallback\"><pre>Pipeline(steps=[(&#x27;skewness&#x27;, YeoJohnsonTransformer()),\n",
              "                (&#x27;remove_outliers&#x27;,\n",
              "                 Winsorizer(capping_method=&#x27;iqr&#x27;, fold=1.5, tail=&#x27;both&#x27;)),\n",
              "                (&#x27;scaling&#x27;, StandardScaler()),\n",
              "                (&#x27;remove_corr&#x27;, DropCorrelatedFeatures(threshold=0.6))])</pre><b>In a Jupyter environment, please rerun this cell to show the HTML representation or trust the notebook. <br />On GitHub, the HTML representation is unable to render, please try loading this page with nbviewer.org.</b></div><div class=\"sk-container\" hidden><div class=\"sk-item sk-dashed-wrapped\"><div class=\"sk-label-container\"><div class=\"sk-label sk-toggleable\"><input class=\"sk-toggleable__control sk-hidden--visually\" id=\"sk-estimator-id-1\" type=\"checkbox\" ><label for=\"sk-estimator-id-1\" class=\"sk-toggleable__label sk-toggleable__label-arrow\">Pipeline</label><div class=\"sk-toggleable__content\"><pre>Pipeline(steps=[(&#x27;skewness&#x27;, YeoJohnsonTransformer()),\n",
              "                (&#x27;remove_outliers&#x27;,\n",
              "                 Winsorizer(capping_method=&#x27;iqr&#x27;, fold=1.5, tail=&#x27;both&#x27;)),\n",
              "                (&#x27;scaling&#x27;, StandardScaler()),\n",
              "                (&#x27;remove_corr&#x27;, DropCorrelatedFeatures(threshold=0.6))])</pre></div></div></div><div class=\"sk-serial\"><div class=\"sk-item\"><div class=\"sk-estimator sk-toggleable\"><input class=\"sk-toggleable__control sk-hidden--visually\" id=\"sk-estimator-id-2\" type=\"checkbox\" ><label for=\"sk-estimator-id-2\" class=\"sk-toggleable__label sk-toggleable__label-arrow\">YeoJohnsonTransformer</label><div class=\"sk-toggleable__content\"><pre>YeoJohnsonTransformer()</pre></div></div></div><div class=\"sk-item\"><div class=\"sk-estimator sk-toggleable\"><input class=\"sk-toggleable__control sk-hidden--visually\" id=\"sk-estimator-id-3\" type=\"checkbox\" ><label for=\"sk-estimator-id-3\" class=\"sk-toggleable__label sk-toggleable__label-arrow\">Winsorizer</label><div class=\"sk-toggleable__content\"><pre>Winsorizer(capping_method=&#x27;iqr&#x27;, fold=1.5, tail=&#x27;both&#x27;)</pre></div></div></div><div class=\"sk-item\"><div class=\"sk-estimator sk-toggleable\"><input class=\"sk-toggleable__control sk-hidden--visually\" id=\"sk-estimator-id-4\" type=\"checkbox\" ><label for=\"sk-estimator-id-4\" class=\"sk-toggleable__label sk-toggleable__label-arrow\">StandardScaler</label><div class=\"sk-toggleable__content\"><pre>StandardScaler()</pre></div></div></div><div class=\"sk-item\"><div class=\"sk-estimator sk-toggleable\"><input class=\"sk-toggleable__control sk-hidden--visually\" id=\"sk-estimator-id-5\" type=\"checkbox\" ><label for=\"sk-estimator-id-5\" class=\"sk-toggleable__label sk-toggleable__label-arrow\">DropCorrelatedFeatures</label><div class=\"sk-toggleable__content\"><pre>DropCorrelatedFeatures(threshold=0.6)</pre></div></div></div></div></div></div></div>"
            ]
          },
          "metadata": {},
          "execution_count": 15
        }
      ],
      "source": [
        "numeric_pipeline.fit(X_train[numeric_features])"
      ]
    },
    {
      "cell_type": "code",
      "execution_count": 16,
      "metadata": {
        "colab": {
          "base_uri": "https://localhost:8080/",
          "height": 424
        },
        "id": "E330jByubonT",
        "outputId": "febd09b3-2984-48e2-84bc-793aead79220"
      },
      "outputs": [
        {
          "output_type": "execute_result",
          "data": {
            "text/plain": [
              "      wine_type_red\n",
              "1468              1\n",
              "741               0\n",
              "585               0\n",
              "1305              0\n",
              "306               0\n",
              "...             ...\n",
              "1130              1\n",
              "1294              1\n",
              "860               1\n",
              "1459              1\n",
              "1126              0\n",
              "\n",
              "[1326 rows x 1 columns]"
            ],
            "text/html": [
              "\n",
              "  <div id=\"df-e914e2d7-ed4c-4a0e-b449-b345cf7819ba\">\n",
              "    <div class=\"colab-df-container\">\n",
              "      <div>\n",
              "<style scoped>\n",
              "    .dataframe tbody tr th:only-of-type {\n",
              "        vertical-align: middle;\n",
              "    }\n",
              "\n",
              "    .dataframe tbody tr th {\n",
              "        vertical-align: top;\n",
              "    }\n",
              "\n",
              "    .dataframe thead th {\n",
              "        text-align: right;\n",
              "    }\n",
              "</style>\n",
              "<table border=\"1\" class=\"dataframe\">\n",
              "  <thead>\n",
              "    <tr style=\"text-align: right;\">\n",
              "      <th></th>\n",
              "      <th>wine_type_red</th>\n",
              "    </tr>\n",
              "  </thead>\n",
              "  <tbody>\n",
              "    <tr>\n",
              "      <th>1468</th>\n",
              "      <td>1</td>\n",
              "    </tr>\n",
              "    <tr>\n",
              "      <th>741</th>\n",
              "      <td>0</td>\n",
              "    </tr>\n",
              "    <tr>\n",
              "      <th>585</th>\n",
              "      <td>0</td>\n",
              "    </tr>\n",
              "    <tr>\n",
              "      <th>1305</th>\n",
              "      <td>0</td>\n",
              "    </tr>\n",
              "    <tr>\n",
              "      <th>306</th>\n",
              "      <td>0</td>\n",
              "    </tr>\n",
              "    <tr>\n",
              "      <th>...</th>\n",
              "      <td>...</td>\n",
              "    </tr>\n",
              "    <tr>\n",
              "      <th>1130</th>\n",
              "      <td>1</td>\n",
              "    </tr>\n",
              "    <tr>\n",
              "      <th>1294</th>\n",
              "      <td>1</td>\n",
              "    </tr>\n",
              "    <tr>\n",
              "      <th>860</th>\n",
              "      <td>1</td>\n",
              "    </tr>\n",
              "    <tr>\n",
              "      <th>1459</th>\n",
              "      <td>1</td>\n",
              "    </tr>\n",
              "    <tr>\n",
              "      <th>1126</th>\n",
              "      <td>0</td>\n",
              "    </tr>\n",
              "  </tbody>\n",
              "</table>\n",
              "<p>1326 rows × 1 columns</p>\n",
              "</div>\n",
              "      <button class=\"colab-df-convert\" onclick=\"convertToInteractive('df-e914e2d7-ed4c-4a0e-b449-b345cf7819ba')\"\n",
              "              title=\"Convert this dataframe to an interactive table.\"\n",
              "              style=\"display:none;\">\n",
              "        \n",
              "  <svg xmlns=\"http://www.w3.org/2000/svg\" height=\"24px\"viewBox=\"0 0 24 24\"\n",
              "       width=\"24px\">\n",
              "    <path d=\"M0 0h24v24H0V0z\" fill=\"none\"/>\n",
              "    <path d=\"M18.56 5.44l.94 2.06.94-2.06 2.06-.94-2.06-.94-.94-2.06-.94 2.06-2.06.94zm-11 1L8.5 8.5l.94-2.06 2.06-.94-2.06-.94L8.5 2.5l-.94 2.06-2.06.94zm10 10l.94 2.06.94-2.06 2.06-.94-2.06-.94-.94-2.06-.94 2.06-2.06.94z\"/><path d=\"M17.41 7.96l-1.37-1.37c-.4-.4-.92-.59-1.43-.59-.52 0-1.04.2-1.43.59L10.3 9.45l-7.72 7.72c-.78.78-.78 2.05 0 2.83L4 21.41c.39.39.9.59 1.41.59.51 0 1.02-.2 1.41-.59l7.78-7.78 2.81-2.81c.8-.78.8-2.07 0-2.86zM5.41 20L4 18.59l7.72-7.72 1.47 1.35L5.41 20z\"/>\n",
              "  </svg>\n",
              "      </button>\n",
              "      \n",
              "  <style>\n",
              "    .colab-df-container {\n",
              "      display:flex;\n",
              "      flex-wrap:wrap;\n",
              "      gap: 12px;\n",
              "    }\n",
              "\n",
              "    .colab-df-convert {\n",
              "      background-color: #E8F0FE;\n",
              "      border: none;\n",
              "      border-radius: 50%;\n",
              "      cursor: pointer;\n",
              "      display: none;\n",
              "      fill: #1967D2;\n",
              "      height: 32px;\n",
              "      padding: 0 0 0 0;\n",
              "      width: 32px;\n",
              "    }\n",
              "\n",
              "    .colab-df-convert:hover {\n",
              "      background-color: #E2EBFA;\n",
              "      box-shadow: 0px 1px 2px rgba(60, 64, 67, 0.3), 0px 1px 3px 1px rgba(60, 64, 67, 0.15);\n",
              "      fill: #174EA6;\n",
              "    }\n",
              "\n",
              "    [theme=dark] .colab-df-convert {\n",
              "      background-color: #3B4455;\n",
              "      fill: #D2E3FC;\n",
              "    }\n",
              "\n",
              "    [theme=dark] .colab-df-convert:hover {\n",
              "      background-color: #434B5C;\n",
              "      box-shadow: 0px 1px 3px 1px rgba(0, 0, 0, 0.15);\n",
              "      filter: drop-shadow(0px 1px 2px rgba(0, 0, 0, 0.3));\n",
              "      fill: #FFFFFF;\n",
              "    }\n",
              "  </style>\n",
              "\n",
              "      <script>\n",
              "        const buttonEl =\n",
              "          document.querySelector('#df-e914e2d7-ed4c-4a0e-b449-b345cf7819ba button.colab-df-convert');\n",
              "        buttonEl.style.display =\n",
              "          google.colab.kernel.accessAllowed ? 'block' : 'none';\n",
              "\n",
              "        async function convertToInteractive(key) {\n",
              "          const element = document.querySelector('#df-e914e2d7-ed4c-4a0e-b449-b345cf7819ba');\n",
              "          const dataTable =\n",
              "            await google.colab.kernel.invokeFunction('convertToInteractive',\n",
              "                                                     [key], {});\n",
              "          if (!dataTable) return;\n",
              "\n",
              "          const docLinkHtml = 'Like what you see? Visit the ' +\n",
              "            '<a target=\"_blank\" href=https://colab.research.google.com/notebooks/data_table.ipynb>data table notebook</a>'\n",
              "            + ' to learn more about interactive tables.';\n",
              "          element.innerHTML = '';\n",
              "          dataTable['output_type'] = 'display_data';\n",
              "          await google.colab.output.renderOutput(dataTable, element);\n",
              "          const docLink = document.createElement('div');\n",
              "          docLink.innerHTML = docLinkHtml;\n",
              "          element.appendChild(docLink);\n",
              "        }\n",
              "      </script>\n",
              "    </div>\n",
              "  </div>\n",
              "  "
            ]
          },
          "metadata": {},
          "execution_count": 16
        }
      ],
      "source": [
        "# Let's test our pipeline on the training data using fit_transform\n",
        "categorical_pipeline.fit_transform(X_train[categorical_features])"
      ]
    },
    {
      "cell_type": "code",
      "execution_count": 17,
      "metadata": {
        "id": "01C3ry3wbonU"
      },
      "outputs": [],
      "source": [
        "#apply all pipeline\n",
        "feature_eng_pipeline = ColumnTransformer(\n",
        "    [\n",
        "        ('numeric_eng', numeric_pipeline, numeric_features),\n",
        "        ('categorical_eng', categorical_pipeline, categorical_features)\n",
        "    ],\n",
        "    verbose_feature_names_out=False\n",
        ")"
      ]
    },
    {
      "cell_type": "code",
      "execution_count": 18,
      "metadata": {
        "colab": {
          "base_uri": "https://localhost:8080/",
          "height": 222
        },
        "id": "MbNpdR5obonV",
        "outputId": "bd8ad0a0-0cec-4e1a-a63d-464988e716a8"
      },
      "outputs": [
        {
          "output_type": "execute_result",
          "data": {
            "text/plain": [
              "ColumnTransformer(transformers=[('numeric_eng',\n",
              "                                 Pipeline(steps=[('skewness',\n",
              "                                                  YeoJohnsonTransformer()),\n",
              "                                                 ('remove_outliers',\n",
              "                                                  Winsorizer(capping_method='iqr',\n",
              "                                                             fold=1.5,\n",
              "                                                             tail='both')),\n",
              "                                                 ('scaling', StandardScaler()),\n",
              "                                                 ('remove_corr',\n",
              "                                                  DropCorrelatedFeatures(threshold=0.6))]),\n",
              "                                 ['alcohol', 'citric_acid', 'density', 'ph',\n",
              "                                  'residual_sugar', 'total_sulfur_dioxide',\n",
              "                                  'fixed_acidity']),\n",
              "                                ('categorical_eng',\n",
              "                                 Pipeline(steps=[('dummy encoding',\n",
              "                                                  OneHotEncoder(drop_last=True))]),\n",
              "                                 ['wine_type'])],\n",
              "                  verbose_feature_names_out=False)"
            ],
            "text/html": [
              "<style>#sk-container-id-2 {color: black;background-color: white;}#sk-container-id-2 pre{padding: 0;}#sk-container-id-2 div.sk-toggleable {background-color: white;}#sk-container-id-2 label.sk-toggleable__label {cursor: pointer;display: block;width: 100%;margin-bottom: 0;padding: 0.3em;box-sizing: border-box;text-align: center;}#sk-container-id-2 label.sk-toggleable__label-arrow:before {content: \"▸\";float: left;margin-right: 0.25em;color: #696969;}#sk-container-id-2 label.sk-toggleable__label-arrow:hover:before {color: black;}#sk-container-id-2 div.sk-estimator:hover label.sk-toggleable__label-arrow:before {color: black;}#sk-container-id-2 div.sk-toggleable__content {max-height: 0;max-width: 0;overflow: hidden;text-align: left;background-color: #f0f8ff;}#sk-container-id-2 div.sk-toggleable__content pre {margin: 0.2em;color: black;border-radius: 0.25em;background-color: #f0f8ff;}#sk-container-id-2 input.sk-toggleable__control:checked~div.sk-toggleable__content {max-height: 200px;max-width: 100%;overflow: auto;}#sk-container-id-2 input.sk-toggleable__control:checked~label.sk-toggleable__label-arrow:before {content: \"▾\";}#sk-container-id-2 div.sk-estimator input.sk-toggleable__control:checked~label.sk-toggleable__label {background-color: #d4ebff;}#sk-container-id-2 div.sk-label input.sk-toggleable__control:checked~label.sk-toggleable__label {background-color: #d4ebff;}#sk-container-id-2 input.sk-hidden--visually {border: 0;clip: rect(1px 1px 1px 1px);clip: rect(1px, 1px, 1px, 1px);height: 1px;margin: -1px;overflow: hidden;padding: 0;position: absolute;width: 1px;}#sk-container-id-2 div.sk-estimator {font-family: monospace;background-color: #f0f8ff;border: 1px dotted black;border-radius: 0.25em;box-sizing: border-box;margin-bottom: 0.5em;}#sk-container-id-2 div.sk-estimator:hover {background-color: #d4ebff;}#sk-container-id-2 div.sk-parallel-item::after {content: \"\";width: 100%;border-bottom: 1px solid gray;flex-grow: 1;}#sk-container-id-2 div.sk-label:hover label.sk-toggleable__label {background-color: #d4ebff;}#sk-container-id-2 div.sk-serial::before {content: \"\";position: absolute;border-left: 1px solid gray;box-sizing: border-box;top: 0;bottom: 0;left: 50%;z-index: 0;}#sk-container-id-2 div.sk-serial {display: flex;flex-direction: column;align-items: center;background-color: white;padding-right: 0.2em;padding-left: 0.2em;position: relative;}#sk-container-id-2 div.sk-item {position: relative;z-index: 1;}#sk-container-id-2 div.sk-parallel {display: flex;align-items: stretch;justify-content: center;background-color: white;position: relative;}#sk-container-id-2 div.sk-item::before, #sk-container-id-2 div.sk-parallel-item::before {content: \"\";position: absolute;border-left: 1px solid gray;box-sizing: border-box;top: 0;bottom: 0;left: 50%;z-index: -1;}#sk-container-id-2 div.sk-parallel-item {display: flex;flex-direction: column;z-index: 1;position: relative;background-color: white;}#sk-container-id-2 div.sk-parallel-item:first-child::after {align-self: flex-end;width: 50%;}#sk-container-id-2 div.sk-parallel-item:last-child::after {align-self: flex-start;width: 50%;}#sk-container-id-2 div.sk-parallel-item:only-child::after {width: 0;}#sk-container-id-2 div.sk-dashed-wrapped {border: 1px dashed gray;margin: 0 0.4em 0.5em 0.4em;box-sizing: border-box;padding-bottom: 0.4em;background-color: white;}#sk-container-id-2 div.sk-label label {font-family: monospace;font-weight: bold;display: inline-block;line-height: 1.2em;}#sk-container-id-2 div.sk-label-container {text-align: center;}#sk-container-id-2 div.sk-container {/* jupyter's `normalize.less` sets `[hidden] { display: none; }` but bootstrap.min.css set `[hidden] { display: none !important; }` so we also need the `!important` here to be able to override the default hidden behavior on the sphinx rendered scikit-learn.org. See: https://github.com/scikit-learn/scikit-learn/issues/21755 */display: inline-block !important;position: relative;}#sk-container-id-2 div.sk-text-repr-fallback {display: none;}</style><div id=\"sk-container-id-2\" class=\"sk-top-container\"><div class=\"sk-text-repr-fallback\"><pre>ColumnTransformer(transformers=[(&#x27;numeric_eng&#x27;,\n",
              "                                 Pipeline(steps=[(&#x27;skewness&#x27;,\n",
              "                                                  YeoJohnsonTransformer()),\n",
              "                                                 (&#x27;remove_outliers&#x27;,\n",
              "                                                  Winsorizer(capping_method=&#x27;iqr&#x27;,\n",
              "                                                             fold=1.5,\n",
              "                                                             tail=&#x27;both&#x27;)),\n",
              "                                                 (&#x27;scaling&#x27;, StandardScaler()),\n",
              "                                                 (&#x27;remove_corr&#x27;,\n",
              "                                                  DropCorrelatedFeatures(threshold=0.6))]),\n",
              "                                 [&#x27;alcohol&#x27;, &#x27;citric_acid&#x27;, &#x27;density&#x27;, &#x27;ph&#x27;,\n",
              "                                  &#x27;residual_sugar&#x27;, &#x27;total_sulfur_dioxide&#x27;,\n",
              "                                  &#x27;fixed_acidity&#x27;]),\n",
              "                                (&#x27;categorical_eng&#x27;,\n",
              "                                 Pipeline(steps=[(&#x27;dummy encoding&#x27;,\n",
              "                                                  OneHotEncoder(drop_last=True))]),\n",
              "                                 [&#x27;wine_type&#x27;])],\n",
              "                  verbose_feature_names_out=False)</pre><b>In a Jupyter environment, please rerun this cell to show the HTML representation or trust the notebook. <br />On GitHub, the HTML representation is unable to render, please try loading this page with nbviewer.org.</b></div><div class=\"sk-container\" hidden><div class=\"sk-item sk-dashed-wrapped\"><div class=\"sk-label-container\"><div class=\"sk-label sk-toggleable\"><input class=\"sk-toggleable__control sk-hidden--visually\" id=\"sk-estimator-id-6\" type=\"checkbox\" ><label for=\"sk-estimator-id-6\" class=\"sk-toggleable__label sk-toggleable__label-arrow\">ColumnTransformer</label><div class=\"sk-toggleable__content\"><pre>ColumnTransformer(transformers=[(&#x27;numeric_eng&#x27;,\n",
              "                                 Pipeline(steps=[(&#x27;skewness&#x27;,\n",
              "                                                  YeoJohnsonTransformer()),\n",
              "                                                 (&#x27;remove_outliers&#x27;,\n",
              "                                                  Winsorizer(capping_method=&#x27;iqr&#x27;,\n",
              "                                                             fold=1.5,\n",
              "                                                             tail=&#x27;both&#x27;)),\n",
              "                                                 (&#x27;scaling&#x27;, StandardScaler()),\n",
              "                                                 (&#x27;remove_corr&#x27;,\n",
              "                                                  DropCorrelatedFeatures(threshold=0.6))]),\n",
              "                                 [&#x27;alcohol&#x27;, &#x27;citric_acid&#x27;, &#x27;density&#x27;, &#x27;ph&#x27;,\n",
              "                                  &#x27;residual_sugar&#x27;, &#x27;total_sulfur_dioxide&#x27;,\n",
              "                                  &#x27;fixed_acidity&#x27;]),\n",
              "                                (&#x27;categorical_eng&#x27;,\n",
              "                                 Pipeline(steps=[(&#x27;dummy encoding&#x27;,\n",
              "                                                  OneHotEncoder(drop_last=True))]),\n",
              "                                 [&#x27;wine_type&#x27;])],\n",
              "                  verbose_feature_names_out=False)</pre></div></div></div><div class=\"sk-parallel\"><div class=\"sk-parallel-item\"><div class=\"sk-item\"><div class=\"sk-label-container\"><div class=\"sk-label sk-toggleable\"><input class=\"sk-toggleable__control sk-hidden--visually\" id=\"sk-estimator-id-7\" type=\"checkbox\" ><label for=\"sk-estimator-id-7\" class=\"sk-toggleable__label sk-toggleable__label-arrow\">numeric_eng</label><div class=\"sk-toggleable__content\"><pre>[&#x27;alcohol&#x27;, &#x27;citric_acid&#x27;, &#x27;density&#x27;, &#x27;ph&#x27;, &#x27;residual_sugar&#x27;, &#x27;total_sulfur_dioxide&#x27;, &#x27;fixed_acidity&#x27;]</pre></div></div></div><div class=\"sk-serial\"><div class=\"sk-item\"><div class=\"sk-serial\"><div class=\"sk-item\"><div class=\"sk-estimator sk-toggleable\"><input class=\"sk-toggleable__control sk-hidden--visually\" id=\"sk-estimator-id-8\" type=\"checkbox\" ><label for=\"sk-estimator-id-8\" class=\"sk-toggleable__label sk-toggleable__label-arrow\">YeoJohnsonTransformer</label><div class=\"sk-toggleable__content\"><pre>YeoJohnsonTransformer()</pre></div></div></div><div class=\"sk-item\"><div class=\"sk-estimator sk-toggleable\"><input class=\"sk-toggleable__control sk-hidden--visually\" id=\"sk-estimator-id-9\" type=\"checkbox\" ><label for=\"sk-estimator-id-9\" class=\"sk-toggleable__label sk-toggleable__label-arrow\">Winsorizer</label><div class=\"sk-toggleable__content\"><pre>Winsorizer(capping_method=&#x27;iqr&#x27;, fold=1.5, tail=&#x27;both&#x27;)</pre></div></div></div><div class=\"sk-item\"><div class=\"sk-estimator sk-toggleable\"><input class=\"sk-toggleable__control sk-hidden--visually\" id=\"sk-estimator-id-10\" type=\"checkbox\" ><label for=\"sk-estimator-id-10\" class=\"sk-toggleable__label sk-toggleable__label-arrow\">StandardScaler</label><div class=\"sk-toggleable__content\"><pre>StandardScaler()</pre></div></div></div><div class=\"sk-item\"><div class=\"sk-estimator sk-toggleable\"><input class=\"sk-toggleable__control sk-hidden--visually\" id=\"sk-estimator-id-11\" type=\"checkbox\" ><label for=\"sk-estimator-id-11\" class=\"sk-toggleable__label sk-toggleable__label-arrow\">DropCorrelatedFeatures</label><div class=\"sk-toggleable__content\"><pre>DropCorrelatedFeatures(threshold=0.6)</pre></div></div></div></div></div></div></div></div><div class=\"sk-parallel-item\"><div class=\"sk-item\"><div class=\"sk-label-container\"><div class=\"sk-label sk-toggleable\"><input class=\"sk-toggleable__control sk-hidden--visually\" id=\"sk-estimator-id-12\" type=\"checkbox\" ><label for=\"sk-estimator-id-12\" class=\"sk-toggleable__label sk-toggleable__label-arrow\">categorical_eng</label><div class=\"sk-toggleable__content\"><pre>[&#x27;wine_type&#x27;]</pre></div></div></div><div class=\"sk-serial\"><div class=\"sk-item\"><div class=\"sk-serial\"><div class=\"sk-item\"><div class=\"sk-estimator sk-toggleable\"><input class=\"sk-toggleable__control sk-hidden--visually\" id=\"sk-estimator-id-13\" type=\"checkbox\" ><label for=\"sk-estimator-id-13\" class=\"sk-toggleable__label sk-toggleable__label-arrow\">OneHotEncoder</label><div class=\"sk-toggleable__content\"><pre>OneHotEncoder(drop_last=True)</pre></div></div></div></div></div></div></div></div></div></div></div></div>"
            ]
          },
          "metadata": {},
          "execution_count": 18
        }
      ],
      "source": [
        "# Train the pipeline\n",
        "feature_eng_pipeline.fit(X_train)"
      ]
    },
    {
      "cell_type": "code",
      "execution_count": 19,
      "metadata": {
        "colab": {
          "base_uri": "https://localhost:8080/",
          "height": 424
        },
        "id": "S1pEbFrKbonV",
        "outputId": "705fe8b9-04ff-47f9-ae1f-d9a2e5598087"
      },
      "outputs": [
        {
          "output_type": "execute_result",
          "data": {
            "text/plain": [
              "      alcohol  citric_acid    ph  residual_sugar  total_sulfur_dioxide  \\\n",
              "0       -0.10        -1.56  1.55           -0.71                 -1.29   \n",
              "1        1.38        -0.59 -1.76            0.49                 -0.40   \n",
              "2       -0.51         0.02  1.07            0.66                  0.40   \n",
              "3       -0.62        -0.45 -0.10            0.82                 -0.32   \n",
              "4       -0.62         2.32 -1.10           -1.29                  1.13   \n",
              "...       ...          ...   ...             ...                   ...   \n",
              "1321    -0.30        -1.28  1.60           -0.24                 -1.37   \n",
              "1322     0.44         2.28 -0.29           -0.04                 -1.31   \n",
              "1323    -0.85        -1.35  0.51           -0.14                 -0.98   \n",
              "1324    -0.30         0.09  0.45           -0.56                 -0.77   \n",
              "1325    -1.65         0.62 -2.07            1.76                  0.93   \n",
              "\n",
              "      fixed_acidity  wine_type_red  \n",
              "0             -1.95            1.0  \n",
              "1              0.03            0.0  \n",
              "2             -0.32            0.0  \n",
              "3             -0.05            0.0  \n",
              "4             -0.32            0.0  \n",
              "...             ...            ...  \n",
              "1321           0.82            1.0  \n",
              "1322           2.40            1.0  \n",
              "1323           1.28            1.0  \n",
              "1324           0.11            1.0  \n",
              "1325          -0.23            0.0  \n",
              "\n",
              "[1326 rows x 7 columns]"
            ],
            "text/html": [
              "\n",
              "  <div id=\"df-f2edf4e8-8e13-488d-b2f1-fcc708b50371\">\n",
              "    <div class=\"colab-df-container\">\n",
              "      <div>\n",
              "<style scoped>\n",
              "    .dataframe tbody tr th:only-of-type {\n",
              "        vertical-align: middle;\n",
              "    }\n",
              "\n",
              "    .dataframe tbody tr th {\n",
              "        vertical-align: top;\n",
              "    }\n",
              "\n",
              "    .dataframe thead th {\n",
              "        text-align: right;\n",
              "    }\n",
              "</style>\n",
              "<table border=\"1\" class=\"dataframe\">\n",
              "  <thead>\n",
              "    <tr style=\"text-align: right;\">\n",
              "      <th></th>\n",
              "      <th>alcohol</th>\n",
              "      <th>citric_acid</th>\n",
              "      <th>ph</th>\n",
              "      <th>residual_sugar</th>\n",
              "      <th>total_sulfur_dioxide</th>\n",
              "      <th>fixed_acidity</th>\n",
              "      <th>wine_type_red</th>\n",
              "    </tr>\n",
              "  </thead>\n",
              "  <tbody>\n",
              "    <tr>\n",
              "      <th>0</th>\n",
              "      <td>-0.10</td>\n",
              "      <td>-1.56</td>\n",
              "      <td>1.55</td>\n",
              "      <td>-0.71</td>\n",
              "      <td>-1.29</td>\n",
              "      <td>-1.95</td>\n",
              "      <td>1.0</td>\n",
              "    </tr>\n",
              "    <tr>\n",
              "      <th>1</th>\n",
              "      <td>1.38</td>\n",
              "      <td>-0.59</td>\n",
              "      <td>-1.76</td>\n",
              "      <td>0.49</td>\n",
              "      <td>-0.40</td>\n",
              "      <td>0.03</td>\n",
              "      <td>0.0</td>\n",
              "    </tr>\n",
              "    <tr>\n",
              "      <th>2</th>\n",
              "      <td>-0.51</td>\n",
              "      <td>0.02</td>\n",
              "      <td>1.07</td>\n",
              "      <td>0.66</td>\n",
              "      <td>0.40</td>\n",
              "      <td>-0.32</td>\n",
              "      <td>0.0</td>\n",
              "    </tr>\n",
              "    <tr>\n",
              "      <th>3</th>\n",
              "      <td>-0.62</td>\n",
              "      <td>-0.45</td>\n",
              "      <td>-0.10</td>\n",
              "      <td>0.82</td>\n",
              "      <td>-0.32</td>\n",
              "      <td>-0.05</td>\n",
              "      <td>0.0</td>\n",
              "    </tr>\n",
              "    <tr>\n",
              "      <th>4</th>\n",
              "      <td>-0.62</td>\n",
              "      <td>2.32</td>\n",
              "      <td>-1.10</td>\n",
              "      <td>-1.29</td>\n",
              "      <td>1.13</td>\n",
              "      <td>-0.32</td>\n",
              "      <td>0.0</td>\n",
              "    </tr>\n",
              "    <tr>\n",
              "      <th>...</th>\n",
              "      <td>...</td>\n",
              "      <td>...</td>\n",
              "      <td>...</td>\n",
              "      <td>...</td>\n",
              "      <td>...</td>\n",
              "      <td>...</td>\n",
              "      <td>...</td>\n",
              "    </tr>\n",
              "    <tr>\n",
              "      <th>1321</th>\n",
              "      <td>-0.30</td>\n",
              "      <td>-1.28</td>\n",
              "      <td>1.60</td>\n",
              "      <td>-0.24</td>\n",
              "      <td>-1.37</td>\n",
              "      <td>0.82</td>\n",
              "      <td>1.0</td>\n",
              "    </tr>\n",
              "    <tr>\n",
              "      <th>1322</th>\n",
              "      <td>0.44</td>\n",
              "      <td>2.28</td>\n",
              "      <td>-0.29</td>\n",
              "      <td>-0.04</td>\n",
              "      <td>-1.31</td>\n",
              "      <td>2.40</td>\n",
              "      <td>1.0</td>\n",
              "    </tr>\n",
              "    <tr>\n",
              "      <th>1323</th>\n",
              "      <td>-0.85</td>\n",
              "      <td>-1.35</td>\n",
              "      <td>0.51</td>\n",
              "      <td>-0.14</td>\n",
              "      <td>-0.98</td>\n",
              "      <td>1.28</td>\n",
              "      <td>1.0</td>\n",
              "    </tr>\n",
              "    <tr>\n",
              "      <th>1324</th>\n",
              "      <td>-0.30</td>\n",
              "      <td>0.09</td>\n",
              "      <td>0.45</td>\n",
              "      <td>-0.56</td>\n",
              "      <td>-0.77</td>\n",
              "      <td>0.11</td>\n",
              "      <td>1.0</td>\n",
              "    </tr>\n",
              "    <tr>\n",
              "      <th>1325</th>\n",
              "      <td>-1.65</td>\n",
              "      <td>0.62</td>\n",
              "      <td>-2.07</td>\n",
              "      <td>1.76</td>\n",
              "      <td>0.93</td>\n",
              "      <td>-0.23</td>\n",
              "      <td>0.0</td>\n",
              "    </tr>\n",
              "  </tbody>\n",
              "</table>\n",
              "<p>1326 rows × 7 columns</p>\n",
              "</div>\n",
              "      <button class=\"colab-df-convert\" onclick=\"convertToInteractive('df-f2edf4e8-8e13-488d-b2f1-fcc708b50371')\"\n",
              "              title=\"Convert this dataframe to an interactive table.\"\n",
              "              style=\"display:none;\">\n",
              "        \n",
              "  <svg xmlns=\"http://www.w3.org/2000/svg\" height=\"24px\"viewBox=\"0 0 24 24\"\n",
              "       width=\"24px\">\n",
              "    <path d=\"M0 0h24v24H0V0z\" fill=\"none\"/>\n",
              "    <path d=\"M18.56 5.44l.94 2.06.94-2.06 2.06-.94-2.06-.94-.94-2.06-.94 2.06-2.06.94zm-11 1L8.5 8.5l.94-2.06 2.06-.94-2.06-.94L8.5 2.5l-.94 2.06-2.06.94zm10 10l.94 2.06.94-2.06 2.06-.94-2.06-.94-.94-2.06-.94 2.06-2.06.94z\"/><path d=\"M17.41 7.96l-1.37-1.37c-.4-.4-.92-.59-1.43-.59-.52 0-1.04.2-1.43.59L10.3 9.45l-7.72 7.72c-.78.78-.78 2.05 0 2.83L4 21.41c.39.39.9.59 1.41.59.51 0 1.02-.2 1.41-.59l7.78-7.78 2.81-2.81c.8-.78.8-2.07 0-2.86zM5.41 20L4 18.59l7.72-7.72 1.47 1.35L5.41 20z\"/>\n",
              "  </svg>\n",
              "      </button>\n",
              "      \n",
              "  <style>\n",
              "    .colab-df-container {\n",
              "      display:flex;\n",
              "      flex-wrap:wrap;\n",
              "      gap: 12px;\n",
              "    }\n",
              "\n",
              "    .colab-df-convert {\n",
              "      background-color: #E8F0FE;\n",
              "      border: none;\n",
              "      border-radius: 50%;\n",
              "      cursor: pointer;\n",
              "      display: none;\n",
              "      fill: #1967D2;\n",
              "      height: 32px;\n",
              "      padding: 0 0 0 0;\n",
              "      width: 32px;\n",
              "    }\n",
              "\n",
              "    .colab-df-convert:hover {\n",
              "      background-color: #E2EBFA;\n",
              "      box-shadow: 0px 1px 2px rgba(60, 64, 67, 0.3), 0px 1px 3px 1px rgba(60, 64, 67, 0.15);\n",
              "      fill: #174EA6;\n",
              "    }\n",
              "\n",
              "    [theme=dark] .colab-df-convert {\n",
              "      background-color: #3B4455;\n",
              "      fill: #D2E3FC;\n",
              "    }\n",
              "\n",
              "    [theme=dark] .colab-df-convert:hover {\n",
              "      background-color: #434B5C;\n",
              "      box-shadow: 0px 1px 3px 1px rgba(0, 0, 0, 0.15);\n",
              "      filter: drop-shadow(0px 1px 2px rgba(0, 0, 0, 0.3));\n",
              "      fill: #FFFFFF;\n",
              "    }\n",
              "  </style>\n",
              "\n",
              "      <script>\n",
              "        const buttonEl =\n",
              "          document.querySelector('#df-f2edf4e8-8e13-488d-b2f1-fcc708b50371 button.colab-df-convert');\n",
              "        buttonEl.style.display =\n",
              "          google.colab.kernel.accessAllowed ? 'block' : 'none';\n",
              "\n",
              "        async function convertToInteractive(key) {\n",
              "          const element = document.querySelector('#df-f2edf4e8-8e13-488d-b2f1-fcc708b50371');\n",
              "          const dataTable =\n",
              "            await google.colab.kernel.invokeFunction('convertToInteractive',\n",
              "                                                     [key], {});\n",
              "          if (!dataTable) return;\n",
              "\n",
              "          const docLinkHtml = 'Like what you see? Visit the ' +\n",
              "            '<a target=\"_blank\" href=https://colab.research.google.com/notebooks/data_table.ipynb>data table notebook</a>'\n",
              "            + ' to learn more about interactive tables.';\n",
              "          element.innerHTML = '';\n",
              "          dataTable['output_type'] = 'display_data';\n",
              "          await google.colab.output.renderOutput(dataTable, element);\n",
              "          const docLink = document.createElement('div');\n",
              "          docLink.innerHTML = docLinkHtml;\n",
              "          element.appendChild(docLink);\n",
              "        }\n",
              "      </script>\n",
              "    </div>\n",
              "  </div>\n",
              "  "
            ]
          },
          "metadata": {},
          "execution_count": 19
        }
      ],
      "source": [
        "X_train_pipeline = pd.DataFrame(\n",
        "    data=feature_eng_pipeline.transform(X_train), # transformed numpy array result\n",
        "    columns=feature_eng_pipeline.get_feature_names_out() # column names\n",
        ")\n",
        "\n",
        "X_train_pipeline.round(2)"
      ]
    },
    {
      "cell_type": "markdown",
      "metadata": {
        "id": "BLo9ktrObonX"
      },
      "source": [
        "We can see that the density column has been dropped\n",
        "\n",
        "after fitting our pipeline .\n",
        "\n",
        "Data is looking good"
      ]
    },
    {
      "cell_type": "code",
      "execution_count": 20,
      "metadata": {
        "colab": {
          "base_uri": "https://localhost:8080/",
          "height": 300
        },
        "id": "uaOd-plpbonX",
        "outputId": "a80d3ee2-cb49-4f8f-ae79-dd19c1f2b248"
      },
      "outputs": [
        {
          "output_type": "execute_result",
          "data": {
            "text/plain": [
              "       alcohol  citric_acid       ph  residual_sugar  total_sulfur_dioxide  \\\n",
              "count  1326.00      1326.00  1326.00         1326.00               1326.00   \n",
              "mean      0.00        -0.00     0.00            0.00                  0.00   \n",
              "std       1.00         1.00     1.00            1.00                  1.00   \n",
              "min      -2.45        -2.14    -2.78           -2.20                 -1.99   \n",
              "25%      -0.85        -0.52    -0.67           -0.79                 -0.85   \n",
              "50%      -0.00         0.02     0.03           -0.30                  0.14   \n",
              "75%       0.81         0.62     0.74            0.99                  0.75   \n",
              "max       2.48         2.32     2.85            1.91                  3.15   \n",
              "\n",
              "       fixed_acidity  wine_type_red  \n",
              "count        1326.00        1326.00  \n",
              "mean           -0.00           0.38  \n",
              "std             1.00           0.49  \n",
              "min            -2.47           0.00  \n",
              "25%            -0.61           0.00  \n",
              "50%            -0.05           0.00  \n",
              "75%             0.63           1.00  \n",
              "max             2.49           1.00  "
            ],
            "text/html": [
              "\n",
              "  <div id=\"df-0f708bc1-f15f-4368-8a0c-0e3d3db66e9e\">\n",
              "    <div class=\"colab-df-container\">\n",
              "      <div>\n",
              "<style scoped>\n",
              "    .dataframe tbody tr th:only-of-type {\n",
              "        vertical-align: middle;\n",
              "    }\n",
              "\n",
              "    .dataframe tbody tr th {\n",
              "        vertical-align: top;\n",
              "    }\n",
              "\n",
              "    .dataframe thead th {\n",
              "        text-align: right;\n",
              "    }\n",
              "</style>\n",
              "<table border=\"1\" class=\"dataframe\">\n",
              "  <thead>\n",
              "    <tr style=\"text-align: right;\">\n",
              "      <th></th>\n",
              "      <th>alcohol</th>\n",
              "      <th>citric_acid</th>\n",
              "      <th>ph</th>\n",
              "      <th>residual_sugar</th>\n",
              "      <th>total_sulfur_dioxide</th>\n",
              "      <th>fixed_acidity</th>\n",
              "      <th>wine_type_red</th>\n",
              "    </tr>\n",
              "  </thead>\n",
              "  <tbody>\n",
              "    <tr>\n",
              "      <th>count</th>\n",
              "      <td>1326.00</td>\n",
              "      <td>1326.00</td>\n",
              "      <td>1326.00</td>\n",
              "      <td>1326.00</td>\n",
              "      <td>1326.00</td>\n",
              "      <td>1326.00</td>\n",
              "      <td>1326.00</td>\n",
              "    </tr>\n",
              "    <tr>\n",
              "      <th>mean</th>\n",
              "      <td>0.00</td>\n",
              "      <td>-0.00</td>\n",
              "      <td>0.00</td>\n",
              "      <td>0.00</td>\n",
              "      <td>0.00</td>\n",
              "      <td>-0.00</td>\n",
              "      <td>0.38</td>\n",
              "    </tr>\n",
              "    <tr>\n",
              "      <th>std</th>\n",
              "      <td>1.00</td>\n",
              "      <td>1.00</td>\n",
              "      <td>1.00</td>\n",
              "      <td>1.00</td>\n",
              "      <td>1.00</td>\n",
              "      <td>1.00</td>\n",
              "      <td>0.49</td>\n",
              "    </tr>\n",
              "    <tr>\n",
              "      <th>min</th>\n",
              "      <td>-2.45</td>\n",
              "      <td>-2.14</td>\n",
              "      <td>-2.78</td>\n",
              "      <td>-2.20</td>\n",
              "      <td>-1.99</td>\n",
              "      <td>-2.47</td>\n",
              "      <td>0.00</td>\n",
              "    </tr>\n",
              "    <tr>\n",
              "      <th>25%</th>\n",
              "      <td>-0.85</td>\n",
              "      <td>-0.52</td>\n",
              "      <td>-0.67</td>\n",
              "      <td>-0.79</td>\n",
              "      <td>-0.85</td>\n",
              "      <td>-0.61</td>\n",
              "      <td>0.00</td>\n",
              "    </tr>\n",
              "    <tr>\n",
              "      <th>50%</th>\n",
              "      <td>-0.00</td>\n",
              "      <td>0.02</td>\n",
              "      <td>0.03</td>\n",
              "      <td>-0.30</td>\n",
              "      <td>0.14</td>\n",
              "      <td>-0.05</td>\n",
              "      <td>0.00</td>\n",
              "    </tr>\n",
              "    <tr>\n",
              "      <th>75%</th>\n",
              "      <td>0.81</td>\n",
              "      <td>0.62</td>\n",
              "      <td>0.74</td>\n",
              "      <td>0.99</td>\n",
              "      <td>0.75</td>\n",
              "      <td>0.63</td>\n",
              "      <td>1.00</td>\n",
              "    </tr>\n",
              "    <tr>\n",
              "      <th>max</th>\n",
              "      <td>2.48</td>\n",
              "      <td>2.32</td>\n",
              "      <td>2.85</td>\n",
              "      <td>1.91</td>\n",
              "      <td>3.15</td>\n",
              "      <td>2.49</td>\n",
              "      <td>1.00</td>\n",
              "    </tr>\n",
              "  </tbody>\n",
              "</table>\n",
              "</div>\n",
              "      <button class=\"colab-df-convert\" onclick=\"convertToInteractive('df-0f708bc1-f15f-4368-8a0c-0e3d3db66e9e')\"\n",
              "              title=\"Convert this dataframe to an interactive table.\"\n",
              "              style=\"display:none;\">\n",
              "        \n",
              "  <svg xmlns=\"http://www.w3.org/2000/svg\" height=\"24px\"viewBox=\"0 0 24 24\"\n",
              "       width=\"24px\">\n",
              "    <path d=\"M0 0h24v24H0V0z\" fill=\"none\"/>\n",
              "    <path d=\"M18.56 5.44l.94 2.06.94-2.06 2.06-.94-2.06-.94-.94-2.06-.94 2.06-2.06.94zm-11 1L8.5 8.5l.94-2.06 2.06-.94-2.06-.94L8.5 2.5l-.94 2.06-2.06.94zm10 10l.94 2.06.94-2.06 2.06-.94-2.06-.94-.94-2.06-.94 2.06-2.06.94z\"/><path d=\"M17.41 7.96l-1.37-1.37c-.4-.4-.92-.59-1.43-.59-.52 0-1.04.2-1.43.59L10.3 9.45l-7.72 7.72c-.78.78-.78 2.05 0 2.83L4 21.41c.39.39.9.59 1.41.59.51 0 1.02-.2 1.41-.59l7.78-7.78 2.81-2.81c.8-.78.8-2.07 0-2.86zM5.41 20L4 18.59l7.72-7.72 1.47 1.35L5.41 20z\"/>\n",
              "  </svg>\n",
              "      </button>\n",
              "      \n",
              "  <style>\n",
              "    .colab-df-container {\n",
              "      display:flex;\n",
              "      flex-wrap:wrap;\n",
              "      gap: 12px;\n",
              "    }\n",
              "\n",
              "    .colab-df-convert {\n",
              "      background-color: #E8F0FE;\n",
              "      border: none;\n",
              "      border-radius: 50%;\n",
              "      cursor: pointer;\n",
              "      display: none;\n",
              "      fill: #1967D2;\n",
              "      height: 32px;\n",
              "      padding: 0 0 0 0;\n",
              "      width: 32px;\n",
              "    }\n",
              "\n",
              "    .colab-df-convert:hover {\n",
              "      background-color: #E2EBFA;\n",
              "      box-shadow: 0px 1px 2px rgba(60, 64, 67, 0.3), 0px 1px 3px 1px rgba(60, 64, 67, 0.15);\n",
              "      fill: #174EA6;\n",
              "    }\n",
              "\n",
              "    [theme=dark] .colab-df-convert {\n",
              "      background-color: #3B4455;\n",
              "      fill: #D2E3FC;\n",
              "    }\n",
              "\n",
              "    [theme=dark] .colab-df-convert:hover {\n",
              "      background-color: #434B5C;\n",
              "      box-shadow: 0px 1px 3px 1px rgba(0, 0, 0, 0.15);\n",
              "      filter: drop-shadow(0px 1px 2px rgba(0, 0, 0, 0.3));\n",
              "      fill: #FFFFFF;\n",
              "    }\n",
              "  </style>\n",
              "\n",
              "      <script>\n",
              "        const buttonEl =\n",
              "          document.querySelector('#df-0f708bc1-f15f-4368-8a0c-0e3d3db66e9e button.colab-df-convert');\n",
              "        buttonEl.style.display =\n",
              "          google.colab.kernel.accessAllowed ? 'block' : 'none';\n",
              "\n",
              "        async function convertToInteractive(key) {\n",
              "          const element = document.querySelector('#df-0f708bc1-f15f-4368-8a0c-0e3d3db66e9e');\n",
              "          const dataTable =\n",
              "            await google.colab.kernel.invokeFunction('convertToInteractive',\n",
              "                                                     [key], {});\n",
              "          if (!dataTable) return;\n",
              "\n",
              "          const docLinkHtml = 'Like what you see? Visit the ' +\n",
              "            '<a target=\"_blank\" href=https://colab.research.google.com/notebooks/data_table.ipynb>data table notebook</a>'\n",
              "            + ' to learn more about interactive tables.';\n",
              "          element.innerHTML = '';\n",
              "          dataTable['output_type'] = 'display_data';\n",
              "          await google.colab.output.renderOutput(dataTable, element);\n",
              "          const docLink = document.createElement('div');\n",
              "          docLink.innerHTML = docLinkHtml;\n",
              "          element.appendChild(docLink);\n",
              "        }\n",
              "      </script>\n",
              "    </div>\n",
              "  </div>\n",
              "  "
            ]
          },
          "metadata": {},
          "execution_count": 20
        }
      ],
      "source": [
        "X_train_pipeline.describe().round(2)"
      ]
    },
    {
      "cell_type": "code",
      "execution_count": 21,
      "metadata": {
        "colab": {
          "base_uri": "https://localhost:8080/",
          "height": 664
        },
        "id": "lEvbAORCfS2Y",
        "outputId": "113c7ff2-a1a0-4a1c-ce9b-e365737fcf9b"
      },
      "outputs": [
        {
          "output_type": "display_data",
          "data": {
            "text/plain": [
              "<Figure size 1500x1000 with 9 Axes>"
            ],
            "image/png": "[encoded data removed]"
          },
          "metadata": {}
        }
      ],
      "source": [
        "X_train_pipeline.hist(figsize=(15,10),bins=50,edgecolor = 'black')\n",
        "plt.subplots_adjust(hspace=0.7,wspace=0.4);"
      ]
    },
    {
      "cell_type": "code",
      "execution_count": 22,
      "metadata": {
        "colab": {
          "base_uri": "https://localhost:8080/",
          "height": 462
        },
        "id": "Cw-I-vvLgEKD",
        "outputId": "8b521e82-c2ce-48c7-8824-13ca64adfa11"
      },
      "outputs": [
        {
          "output_type": "execute_result",
          "data": {
            "text/plain": [
              "<Figure size 300x500 with 0 Axes>"
            ]
          },
          "metadata": {},
          "execution_count": 22
        },
        {
          "output_type": "display_data",
          "data": {
            "text/plain": [
              "<Figure size 300x500 with 1 Axes>"
            ],
            "image/png": "[encoded data removed]"
          },
          "metadata": {}
        }
      ],
      "source": [
        "plt.figure(figsize=(3,5))\n",
        "ax = sns.boxplot(X_train_pipeline['total_sulfur_dioxide'])"
      ]
    },
    {
      "cell_type": "markdown",
      "metadata": {
        "id": "II5FWcdfbonY"
      },
      "source": [
        "## Pipeline + Model"
      ]
    },
    {
      "cell_type": "code",
      "execution_count": 23,
      "metadata": {
        "id": "PUoG9lTxbonZ"
      },
      "outputs": [],
      "source": [
        "#adding models to pipeline\n",
        "linear_reg_workflow = Pipeline(\n",
        "    [\n",
        "        ('feature_engineering', feature_eng_pipeline),\n",
        "        ('linear_regression', LinearRegression()),\n",
        "\n",
        "    ]\n",
        ")\n"
      ]
    },
    {
      "cell_type": "markdown",
      "metadata": {
        "id": "2UQvg1RUbona"
      },
      "source": [
        "\n",
        "\n",
        "- Training the feature engineering steps\n",
        "- Transforming the data\n",
        "- Training the model on the transformed data"
      ]
    },
    {
      "cell_type": "code",
      "execution_count": 24,
      "metadata": {
        "colab": {
          "base_uri": "https://localhost:8080/",
          "height": 296
        },
        "id": "aWI6gvbQbona",
        "outputId": "2f4937f6-4dcc-4d15-f2d5-fc7822f894b5"
      },
      "outputs": [
        {
          "output_type": "execute_result",
          "data": {
            "text/plain": [
              "Pipeline(steps=[('feature_engineering',\n",
              "                 ColumnTransformer(transformers=[('numeric_eng',\n",
              "                                                  Pipeline(steps=[('skewness',\n",
              "                                                                   YeoJohnsonTransformer()),\n",
              "                                                                  ('remove_outliers',\n",
              "                                                                   Winsorizer(capping_method='iqr',\n",
              "                                                                              fold=1.5,\n",
              "                                                                              tail='both')),\n",
              "                                                                  ('scaling',\n",
              "                                                                   StandardScaler()),\n",
              "                                                                  ('remove_corr',\n",
              "                                                                   DropCorrelatedFeatures(threshold=0.6))]),\n",
              "                                                  ['alcohol', 'citric_acid',\n",
              "                                                   'density', 'ph',\n",
              "                                                   'residual_sugar',\n",
              "                                                   'total_sulfur_dioxide',\n",
              "                                                   'fixed_acidity']),\n",
              "                                                 ('categorical_eng',\n",
              "                                                  Pipeline(steps=[('dummy '\n",
              "                                                                   'encoding',\n",
              "                                                                   OneHotEncoder(drop_last=True))]),\n",
              "                                                  ['wine_type'])],\n",
              "                                   verbose_feature_names_out=False)),\n",
              "                ('linear_regression', LinearRegression())])"
            ],
            "text/html": [
              "<style>#sk-container-id-3 {color: black;background-color: white;}#sk-container-id-3 pre{padding: 0;}#sk-container-id-3 div.sk-toggleable {background-color: white;}#sk-container-id-3 label.sk-toggleable__label {cursor: pointer;display: block;width: 100%;margin-bottom: 0;padding: 0.3em;box-sizing: border-box;text-align: center;}#sk-container-id-3 label.sk-toggleable__label-arrow:before {content: \"▸\";float: left;margin-right: 0.25em;color: #696969;}#sk-container-id-3 label.sk-toggleable__label-arrow:hover:before {color: black;}#sk-container-id-3 div.sk-estimator:hover label.sk-toggleable__label-arrow:before {color: black;}#sk-container-id-3 div.sk-toggleable__content {max-height: 0;max-width: 0;overflow: hidden;text-align: left;background-color: #f0f8ff;}#sk-container-id-3 div.sk-toggleable__content pre {margin: 0.2em;color: black;border-radius: 0.25em;background-color: #f0f8ff;}#sk-container-id-3 input.sk-toggleable__control:checked~div.sk-toggleable__content {max-height: 200px;max-width: 100%;overflow: auto;}#sk-container-id-3 input.sk-toggleable__control:checked~label.sk-toggleable__label-arrow:before {content: \"▾\";}#sk-container-id-3 div.sk-estimator input.sk-toggleable__control:checked~label.sk-toggleable__label {background-color: #d4ebff;}#sk-container-id-3 div.sk-label input.sk-toggleable__control:checked~label.sk-toggleable__label {background-color: #d4ebff;}#sk-container-id-3 input.sk-hidden--visually {border: 0;clip: rect(1px 1px 1px 1px);clip: rect(1px, 1px, 1px, 1px);height: 1px;margin: -1px;overflow: hidden;padding: 0;position: absolute;width: 1px;}#sk-container-id-3 div.sk-estimator {font-family: monospace;background-color: #f0f8ff;border: 1px dotted black;border-radius: 0.25em;box-sizing: border-box;margin-bottom: 0.5em;}#sk-container-id-3 div.sk-estimator:hover {background-color: #d4ebff;}#sk-container-id-3 div.sk-parallel-item::after {content: \"\";width: 100%;border-bottom: 1px solid gray;flex-grow: 1;}#sk-container-id-3 div.sk-label:hover label.sk-toggleable__label {background-color: #d4ebff;}#sk-container-id-3 div.sk-serial::before {content: \"\";position: absolute;border-left: 1px solid gray;box-sizing: border-box;top: 0;bottom: 0;left: 50%;z-index: 0;}#sk-container-id-3 div.sk-serial {display: flex;flex-direction: column;align-items: center;background-color: white;padding-right: 0.2em;padding-left: 0.2em;position: relative;}#sk-container-id-3 div.sk-item {position: relative;z-index: 1;}#sk-container-id-3 div.sk-parallel {display: flex;align-items: stretch;justify-content: center;background-color: white;position: relative;}#sk-container-id-3 div.sk-item::before, #sk-container-id-3 div.sk-parallel-item::before {content: \"\";position: absolute;border-left: 1px solid gray;box-sizing: border-box;top: 0;bottom: 0;left: 50%;z-index: -1;}#sk-container-id-3 div.sk-parallel-item {display: flex;flex-direction: column;z-index: 1;position: relative;background-color: white;}#sk-container-id-3 div.sk-parallel-item:first-child::after {align-self: flex-end;width: 50%;}#sk-container-id-3 div.sk-parallel-item:last-child::after {align-self: flex-start;width: 50%;}#sk-container-id-3 div.sk-parallel-item:only-child::after {width: 0;}#sk-container-id-3 div.sk-dashed-wrapped {border: 1px dashed gray;margin: 0 0.4em 0.5em 0.4em;box-sizing: border-box;padding-bottom: 0.4em;background-color: white;}#sk-container-id-3 div.sk-label label {font-family: monospace;font-weight: bold;display: inline-block;line-height: 1.2em;}#sk-container-id-3 div.sk-label-container {text-align: center;}#sk-container-id-3 div.sk-container {/* jupyter's `normalize.less` sets `[hidden] { display: none; }` but bootstrap.min.css set `[hidden] { display: none !important; }` so we also need the `!important` here to be able to override the default hidden behavior on the sphinx rendered scikit-learn.org. See: https://github.com/scikit-learn/scikit-learn/issues/21755 */display: inline-block !important;position: relative;}#sk-container-id-3 div.sk-text-repr-fallback {display: none;}</style><div id=\"sk-container-id-3\" class=\"sk-top-container\"><div class=\"sk-text-repr-fallback\"><pre>Pipeline(steps=[(&#x27;feature_engineering&#x27;,\n",
              "                 ColumnTransformer(transformers=[(&#x27;numeric_eng&#x27;,\n",
              "                                                  Pipeline(steps=[(&#x27;skewness&#x27;,\n",
              "                                                                   YeoJohnsonTransformer()),\n",
              "                                                                  (&#x27;remove_outliers&#x27;,\n",
              "                                                                   Winsorizer(capping_method=&#x27;iqr&#x27;,\n",
              "                                                                              fold=1.5,\n",
              "                                                                              tail=&#x27;both&#x27;)),\n",
              "                                                                  (&#x27;scaling&#x27;,\n",
              "                                                                   StandardScaler()),\n",
              "                                                                  (&#x27;remove_corr&#x27;,\n",
              "                                                                   DropCorrelatedFeatures(threshold=0.6))]),\n",
              "                                                  [&#x27;alcohol&#x27;, &#x27;citric_acid&#x27;,\n",
              "                                                   &#x27;density&#x27;, &#x27;ph&#x27;,\n",
              "                                                   &#x27;residual_sugar&#x27;,\n",
              "                                                   &#x27;total_sulfur_dioxide&#x27;,\n",
              "                                                   &#x27;fixed_acidity&#x27;]),\n",
              "                                                 (&#x27;categorical_eng&#x27;,\n",
              "                                                  Pipeline(steps=[(&#x27;dummy &#x27;\n",
              "                                                                   &#x27;encoding&#x27;,\n",
              "                                                                   OneHotEncoder(drop_last=True))]),\n",
              "                                                  [&#x27;wine_type&#x27;])],\n",
              "                                   verbose_feature_names_out=False)),\n",
              "                (&#x27;linear_regression&#x27;, LinearRegression())])</pre><b>In a Jupyter environment, please rerun this cell to show the HTML representation or trust the notebook. <br />On GitHub, the HTML representation is unable to render, please try loading this page with nbviewer.org.</b></div><div class=\"sk-container\" hidden><div class=\"sk-item sk-dashed-wrapped\"><div class=\"sk-label-container\"><div class=\"sk-label sk-toggleable\"><input class=\"sk-toggleable__control sk-hidden--visually\" id=\"sk-estimator-id-14\" type=\"checkbox\" ><label for=\"sk-estimator-id-14\" class=\"sk-toggleable__label sk-toggleable__label-arrow\">Pipeline</label><div class=\"sk-toggleable__content\"><pre>Pipeline(steps=[(&#x27;feature_engineering&#x27;,\n",
              "                 ColumnTransformer(transformers=[(&#x27;numeric_eng&#x27;,\n",
              "                                                  Pipeline(steps=[(&#x27;skewness&#x27;,\n",
              "                                                                   YeoJohnsonTransformer()),\n",
              "                                                                  (&#x27;remove_outliers&#x27;,\n",
              "                                                                   Winsorizer(capping_method=&#x27;iqr&#x27;,\n",
              "                                                                              fold=1.5,\n",
              "                                                                              tail=&#x27;both&#x27;)),\n",
              "                                                                  (&#x27;scaling&#x27;,\n",
              "                                                                   StandardScaler()),\n",
              "                                                                  (&#x27;remove_corr&#x27;,\n",
              "                                                                   DropCorrelatedFeatures(threshold=0.6))]),\n",
              "                                                  [&#x27;alcohol&#x27;, &#x27;citric_acid&#x27;,\n",
              "                                                   &#x27;density&#x27;, &#x27;ph&#x27;,\n",
              "                                                   &#x27;residual_sugar&#x27;,\n",
              "                                                   &#x27;total_sulfur_dioxide&#x27;,\n",
              "                                                   &#x27;fixed_acidity&#x27;]),\n",
              "                                                 (&#x27;categorical_eng&#x27;,\n",
              "                                                  Pipeline(steps=[(&#x27;dummy &#x27;\n",
              "                                                                   &#x27;encoding&#x27;,\n",
              "                                                                   OneHotEncoder(drop_last=True))]),\n",
              "                                                  [&#x27;wine_type&#x27;])],\n",
              "                                   verbose_feature_names_out=False)),\n",
              "                (&#x27;linear_regression&#x27;, LinearRegression())])</pre></div></div></div><div class=\"sk-serial\"><div class=\"sk-item sk-dashed-wrapped\"><div class=\"sk-label-container\"><div class=\"sk-label sk-toggleable\"><input class=\"sk-toggleable__control sk-hidden--visually\" id=\"sk-estimator-id-15\" type=\"checkbox\" ><label for=\"sk-estimator-id-15\" class=\"sk-toggleable__label sk-toggleable__label-arrow\">feature_engineering: ColumnTransformer</label><div class=\"sk-toggleable__content\"><pre>ColumnTransformer(transformers=[(&#x27;numeric_eng&#x27;,\n",
              "                                 Pipeline(steps=[(&#x27;skewness&#x27;,\n",
              "                                                  YeoJohnsonTransformer()),\n",
              "                                                 (&#x27;remove_outliers&#x27;,\n",
              "                                                  Winsorizer(capping_method=&#x27;iqr&#x27;,\n",
              "                                                             fold=1.5,\n",
              "                                                             tail=&#x27;both&#x27;)),\n",
              "                                                 (&#x27;scaling&#x27;, StandardScaler()),\n",
              "                                                 (&#x27;remove_corr&#x27;,\n",
              "                                                  DropCorrelatedFeatures(threshold=0.6))]),\n",
              "                                 [&#x27;alcohol&#x27;, &#x27;citric_acid&#x27;, &#x27;density&#x27;, &#x27;ph&#x27;,\n",
              "                                  &#x27;residual_sugar&#x27;, &#x27;total_sulfur_dioxide&#x27;,\n",
              "                                  &#x27;fixed_acidity&#x27;]),\n",
              "                                (&#x27;categorical_eng&#x27;,\n",
              "                                 Pipeline(steps=[(&#x27;dummy encoding&#x27;,\n",
              "                                                  OneHotEncoder(drop_last=True))]),\n",
              "                                 [&#x27;wine_type&#x27;])],\n",
              "                  verbose_feature_names_out=False)</pre></div></div></div><div class=\"sk-parallel\"><div class=\"sk-parallel-item\"><div class=\"sk-item\"><div class=\"sk-label-container\"><div class=\"sk-label sk-toggleable\"><input class=\"sk-toggleable__control sk-hidden--visually\" id=\"sk-estimator-id-16\" type=\"checkbox\" ><label for=\"sk-estimator-id-16\" class=\"sk-toggleable__label sk-toggleable__label-arrow\">numeric_eng</label><div class=\"sk-toggleable__content\"><pre>[&#x27;alcohol&#x27;, &#x27;citric_acid&#x27;, &#x27;density&#x27;, &#x27;ph&#x27;, &#x27;residual_sugar&#x27;, &#x27;total_sulfur_dioxide&#x27;, &#x27;fixed_acidity&#x27;]</pre></div></div></div><div class=\"sk-serial\"><div class=\"sk-item\"><div class=\"sk-serial\"><div class=\"sk-item\"><div class=\"sk-estimator sk-toggleable\"><input class=\"sk-toggleable__control sk-hidden--visually\" id=\"sk-estimator-id-17\" type=\"checkbox\" ><label for=\"sk-estimator-id-17\" class=\"sk-toggleable__label sk-toggleable__label-arrow\">YeoJohnsonTransformer</label><div class=\"sk-toggleable__content\"><pre>YeoJohnsonTransformer()</pre></div></div></div><div class=\"sk-item\"><div class=\"sk-estimator sk-toggleable\"><input class=\"sk-toggleable__control sk-hidden--visually\" id=\"sk-estimator-id-18\" type=\"checkbox\" ><label for=\"sk-estimator-id-18\" class=\"sk-toggleable__label sk-toggleable__label-arrow\">Winsorizer</label><div class=\"sk-toggleable__content\"><pre>Winsorizer(capping_method=&#x27;iqr&#x27;, fold=1.5, tail=&#x27;both&#x27;)</pre></div></div></div><div class=\"sk-item\"><div class=\"sk-estimator sk-toggleable\"><input class=\"sk-toggleable__control sk-hidden--visually\" id=\"sk-estimator-id-19\" type=\"checkbox\" ><label for=\"sk-estimator-id-19\" class=\"sk-toggleable__label sk-toggleable__label-arrow\">StandardScaler</label><div class=\"sk-toggleable__content\"><pre>StandardScaler()</pre></div></div></div><div class=\"sk-item\"><div class=\"sk-estimator sk-toggleable\"><input class=\"sk-toggleable__control sk-hidden--visually\" id=\"sk-estimator-id-20\" type=\"checkbox\" ><label for=\"sk-estimator-id-20\" class=\"sk-toggleable__label sk-toggleable__label-arrow\">DropCorrelatedFeatures</label><div class=\"sk-toggleable__content\"><pre>DropCorrelatedFeatures(threshold=0.6)</pre></div></div></div></div></div></div></div></div><div class=\"sk-parallel-item\"><div class=\"sk-item\"><div class=\"sk-label-container\"><div class=\"sk-label sk-toggleable\"><input class=\"sk-toggleable__control sk-hidden--visually\" id=\"sk-estimator-id-21\" type=\"checkbox\" ><label for=\"sk-estimator-id-21\" class=\"sk-toggleable__label sk-toggleable__label-arrow\">categorical_eng</label><div class=\"sk-toggleable__content\"><pre>[&#x27;wine_type&#x27;]</pre></div></div></div><div class=\"sk-serial\"><div class=\"sk-item\"><div class=\"sk-serial\"><div class=\"sk-item\"><div class=\"sk-estimator sk-toggleable\"><input class=\"sk-toggleable__control sk-hidden--visually\" id=\"sk-estimator-id-22\" type=\"checkbox\" ><label for=\"sk-estimator-id-22\" class=\"sk-toggleable__label sk-toggleable__label-arrow\">OneHotEncoder</label><div class=\"sk-toggleable__content\"><pre>OneHotEncoder(drop_last=True)</pre></div></div></div></div></div></div></div></div></div></div><div class=\"sk-item\"><div class=\"sk-estimator sk-toggleable\"><input class=\"sk-toggleable__control sk-hidden--visually\" id=\"sk-estimator-id-23\" type=\"checkbox\" ><label for=\"sk-estimator-id-23\" class=\"sk-toggleable__label sk-toggleable__label-arrow\">LinearRegression</label><div class=\"sk-toggleable__content\"><pre>LinearRegression()</pre></div></div></div></div></div></div></div>"
            ]
          },
          "metadata": {},
          "execution_count": 24
        }
      ],
      "source": [
        "# A lot going on behind the scenes here!\n",
        "linear_reg_workflow.fit(X_train, y_train)\n"
      ]
    },
    {
      "cell_type": "code",
      "execution_count": 25,
      "metadata": {
        "id": "KEIVd3AObonb"
      },
      "outputs": [],
      "source": [
        "# Now we can use our workflow to get predictions\n",
        "train_predict= linear_reg_workflow.predict(X_train)"
      ]
    },
    {
      "cell_type": "markdown",
      "metadata": {
        "id": "PeRHp3SYbonb"
      },
      "source": [
        "## Model Evaluation and performance"
      ]
    },
    {
      "cell_type": "code",
      "execution_count": 26,
      "metadata": {
        "colab": {
          "base_uri": "https://localhost:8080/",
          "height": 567
        },
        "id": "PqhtM8i6bonc",
        "outputId": "45a61fe8-b099-4c77-9b49-2517bcb7c4ed"
      },
      "outputs": [
        {
          "output_type": "display_data",
          "data": {
            "text/plain": [
              "<Figure size 600x800 with 1 Axes>"
            ],
            "image/png": "[encoded data removed]"
          },
          "metadata": {}
        }
      ],
      "source": [
        "# Expand the plot size\n",
        "plt.figure(figsize=(6,8))\n",
        "\n",
        "# Create Prediction Error Plot\n",
        "linear_wf_train_error = PredictionError(linear_reg_workflow, is_fitted=True, bestfit=False, alpha=0.3)\n",
        "\n",
        "linear_wf_train_error.score(X_train, y_train)\n",
        "\n",
        "linear_wf_train_error.show();"
      ]
    },
    {
      "cell_type": "code",
      "execution_count": 27,
      "metadata": {
        "colab": {
          "base_uri": "https://localhost:8080/"
        },
        "id": "anQq0Vb6bond",
        "outputId": "dd0ef8c8-70d7-482c-9757-725c2e4f0b89"
      },
      "outputs": [
        {
          "output_type": "execute_result",
          "data": {
            "text/plain": [
              "0.12357037181356899"
            ]
          },
          "metadata": {},
          "execution_count": 27
        }
      ],
      "source": [
        "mean_squared_error(y_train,train_predict,squared=False)"
      ]
    },
    {
      "cell_type": "markdown",
      "metadata": {
        "id": "YUeIP_Rgbond"
      },
      "source": [
        "Its performing well on our training data\n",
        "\n",
        "We gotta check it on our test data to see how its performing"
      ]
    },
    {
      "cell_type": "code",
      "execution_count": 28,
      "metadata": {
        "colab": {
          "base_uri": "https://localhost:8080/"
        },
        "id": "n7uaZXrwhCJU",
        "outputId": "ca66d34f-4d6e-486a-9045-edd075472f71"
      },
      "outputs": [
        {
          "output_type": "execute_result",
          "data": {
            "text/plain": [
              "0.09165338632876188"
            ]
          },
          "metadata": {},
          "execution_count": 28
        }
      ],
      "source": [
        "mean_absolute_error(y_train,train_predict)"
      ]
    },
    {
      "cell_type": "code",
      "execution_count": 29,
      "metadata": {
        "colab": {
          "base_uri": "https://localhost:8080/",
          "height": 412
        },
        "id": "4zHX3vKsbonv",
        "outputId": "0d6cc22e-fabc-499a-8b4c-9fb45f655b33"
      },
      "outputs": [
        {
          "output_type": "display_data",
          "data": {
            "text/plain": [
              "<Figure size 400x600 with 1 Axes>"
            ],
            "image/png": "[encoded data removed]"
          },
          "metadata": {}
        }
      ],
      "source": [
        "# Expand the plot size\n",
        "plt.figure(figsize=(4,6))\n",
        "\n",
        "# Create Prediction Error Plot\n",
        "linear_wf_test_error = PredictionError(linear_reg_workflow, is_fitted=True, bestfit=False, alpha=0.3)\n",
        "\n",
        "linear_wf_test_error.score(X_test, y_test)\n",
        "\n",
        "linear_wf_test_error.show();"
      ]
    },
    {
      "cell_type": "markdown",
      "metadata": {
        "id": "fFAWATOpbonx"
      },
      "source": [
        "Wow ,It generalizes well on our test data too"
      ]
    },
    {
      "cell_type": "markdown",
      "metadata": {
        "id": "mZFg3gwvbonx"
      },
      "source": [
        "I will love to use cross validation to double check the performance of the model and process"
      ]
    },
    {
      "cell_type": "markdown",
      "metadata": {
        "id": "rudD230Ibony"
      },
      "source": [
        "## Cross Validation"
      ]
    },
    {
      "cell_type": "code",
      "execution_count": 30,
      "metadata": {
        "colab": {
          "base_uri": "https://localhost:8080/"
        },
        "id": "xwyJcsqpbonz",
        "outputId": "6aeb0d3a-b8b7-4557-8e7a-be8083adb32b"
      },
      "outputs": [
        {
          "output_type": "stream",
          "name": "stdout",
          "text": [
            "[0.98860556 0.98690729 0.98560096 0.98888844 0.98511922 0.98035953\n",
            " 0.99033038 0.98835624 0.98544357 0.98548006]\n",
            "the average score is  0.987\n"
          ]
        }
      ],
      "source": [
        "#checking for training data\n",
        "workflow_cv_scores = cross_val_score(linear_reg_workflow,X_train,y_train,cv=10)\n",
        "print(workflow_cv_scores)\n",
        "print('the average score is ',workflow_cv_scores.mean().round(3))\n"
      ]
    },
    {
      "cell_type": "code",
      "execution_count": 31,
      "metadata": {
        "colab": {
          "base_uri": "https://localhost:8080/"
        },
        "id": "DweGrnX9bon0",
        "outputId": "74fcad22-420a-42e3-87ea-af5b8443196b"
      },
      "outputs": [
        {
          "output_type": "stream",
          "name": "stdout",
          "text": [
            "[0.98266713 0.98952811 0.9911536  0.98655115 0.99290163 0.98610607\n",
            " 0.98816054 0.99239313 0.99188959 0.98917132]\n",
            "The average score is  0.989\n"
          ]
        }
      ],
      "source": [
        "#checking for test data\n",
        "sec_workflow_cv_scores = cross_val_score(linear_reg_workflow,X_test,y_test,cv=10)\n",
        "print(sec_workflow_cv_scores)\n",
        "print('The average score is ',sec_workflow_cv_scores.mean().round(3))"
      ]
    },
    {
      "cell_type": "code",
      "execution_count": 32,
      "metadata": {
        "id": "AIufQraobon1"
      },
      "outputs": [],
      "source": [
        "import statsmodels.formula.api as smf"
      ]
    },
    {
      "cell_type": "code",
      "source": [
        "df.columns"
      ],
      "metadata": {
        "colab": {
          "base_uri": "https://localhost:8080/"
        },
        "id": "ayQ32ap66LnV",
        "outputId": "adcc2d33-86e7-423c-cd8a-dd544f75b4d8"
      },
      "execution_count": 33,
      "outputs": [
        {
          "output_type": "execute_result",
          "data": {
            "text/plain": [
              "Index(['quality_score', 'wine_type', 'alcohol', 'citric_acid', 'density', 'ph',\n",
              "       'residual_sugar', 'total_sulfur_dioxide', 'fixed_acidity'],\n",
              "      dtype='object')"
            ]
          },
          "metadata": {},
          "execution_count": 33
        }
      ]
    },
    {
      "cell_type": "code",
      "source": [
        "formula = \"quality_score ~ wine_type + alcohol + citric_acid + density + ph + residual_sugar + total_sulfur_dioxide + fixed_acidity\"\n"
      ],
      "metadata": {
        "id": "tuXtD2_i7jma"
      },
      "execution_count": 34,
      "outputs": []
    },
    {
      "cell_type": "code",
      "source": [
        "model = smf.ols(formula=formula, data=df).fit()\n"
      ],
      "metadata": {
        "id": "sxEnxAwD5qXK"
      },
      "execution_count": 35,
      "outputs": []
    },
    {
      "cell_type": "code",
      "source": [
        "print(model.summary())\n"
      ],
      "metadata": {
        "colab": {
          "base_uri": "https://localhost:8080/"
        },
        "id": "QrbVDEUW8C-u",
        "outputId": "5e023f2a-fe89-4763-db83-3fd4cae2bef5"
      },
      "execution_count": 36,
      "outputs": [
        {
          "output_type": "stream",
          "name": "stdout",
          "text": [
            "                            OLS Regression Results                            \n",
            "==============================================================================\n",
            "Dep. Variable:          quality_score   R-squared:                       0.968\n",
            "Model:                            OLS   Adj. R-squared:                  0.968\n",
            "Method:                 Least Squares   F-statistic:                     6243.\n",
            "Date:                Sun, 18 Jun 2023   Prob (F-statistic):               0.00\n",
            "Time:                        20:32:45   Log-Likelihood:                 308.00\n",
            "No. Observations:                1658   AIC:                            -598.0\n",
            "Df Residuals:                    1649   BIC:                            -549.3\n",
            "Df Model:                           8                                         \n",
            "Covariance Type:            nonrobust                                         \n",
            "========================================================================================\n",
            "                           coef    std err          t      P>|t|      [0.025      0.975]\n",
            "----------------------------------------------------------------------------------------\n",
            "Intercept              -72.9767      7.298     -9.999      0.000     -87.291     -58.662\n",
            "wine_type[T.white]       0.1034      0.027      3.897      0.000       0.051       0.155\n",
            "alcohol                  0.5537      0.009     59.137      0.000       0.535       0.572\n",
            "citric_acid              3.7346      0.040     93.441      0.000       3.656       3.813\n",
            "density                 64.9917      7.403      8.779      0.000      50.471      79.512\n",
            "ph                       2.5218      0.050     50.781      0.000       2.424       2.619\n",
            "residual_sugar          -0.0573      0.003    -18.873      0.000      -0.063      -0.051\n",
            "total_sulfur_dioxide    -0.0044      0.000    -31.378      0.000      -0.005      -0.004\n",
            "fixed_acidity            0.1394      0.008     16.739      0.000       0.123       0.156\n",
            "==============================================================================\n",
            "Omnibus:                      459.638   Durbin-Watson:                   1.984\n",
            "Prob(Omnibus):                  0.000   Jarque-Bera (JB):             3249.254\n",
            "Skew:                          -1.106   Prob(JB):                         0.00\n",
            "Kurtosis:                       9.492   Cond. No.                     2.49e+05\n",
            "==============================================================================\n",
            "\n",
            "Notes:\n",
            "[1] Standard Errors assume that the covariance matrix of the errors is correctly specified.\n",
            "[2] The condition number is large, 2.49e+05. This might indicate that there are\n",
            "strong multicollinearity or other numerical problems.\n"
          ]
        }
      ]
    },
    {
      "cell_type": "code",
      "source": [],
      "metadata": {
        "id": "b5mzperi8HnH"
      },
      "execution_count": 36,
      "outputs": []
    }
  ],
  "metadata": {
    "colab": {
      "provenance": []
    },
    "kernelspec": {
      "display_name": "Python 3",
      "language": "python",
      "name": "python3"
    },
    "language_info": {
      "codemirror_mode": {
        "name": "ipython",
        "version": 3
      },
      "file_extension": ".py",
      "mimetype": "text/x-python",
      "name": "python",
      "nbconvert_exporter": "python",
      "pygments_lexer": "ipython3",
      "version": "3.10.9"
    },
    "vscode": {
      "interpreter": {
        "hash": "a3c6aa2c1f5ade621a3ce5896e28a293a53d1c4364b3b89dfb2b4cbc0658e59e"
      }
    }
  },
  "nbformat": 4,
  "nbformat_minor": 0
}